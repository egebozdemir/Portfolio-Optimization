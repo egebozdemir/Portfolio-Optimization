{
 "cells": [
  {
   "cell_type": "code",
   "execution_count": 1,
   "id": "914d53df-0c95-4c15-bea2-3f912c73f796",
   "metadata": {},
   "outputs": [],
   "source": [
    "import numpy as np\n",
    "import pandas as pd\n",
    "import io\n",
    "import matplotlib.pyplot as plt\n",
    "from scipy.optimize import minimize"
   ]
  },
  {
   "cell_type": "markdown",
   "id": "58f471cc-98e4-4724-9282-257a22db0d08",
   "metadata": {},
   "source": [
    "## dataset"
   ]
  },
  {
   "cell_type": "code",
   "execution_count": 2,
   "id": "63851d11-ff61-406f-92da-445be441b2f4",
   "metadata": {},
   "outputs": [],
   "source": [
    "df_port = pd.read_excel(\"C:/Users/tekno/PycharmProjects/pythonProject/DATA/united.xlsx\", sheet_name=\"Sayfa1\")\n",
    "df_stocks = pd.read_excel(\"C:/Users/tekno/PycharmProjects/pythonProject/DATA/united.xlsx\", sheet_name=\"Sayfa2\")"
   ]
  },
  {
   "cell_type": "code",
   "execution_count": 3,
   "id": "9ef946bb-7126-4792-98b9-b877126d9bc3",
   "metadata": {},
   "outputs": [
    {
     "data": {
      "text/html": [
       "<div>\n",
       "<style scoped>\n",
       "    .dataframe tbody tr th:only-of-type {\n",
       "        vertical-align: middle;\n",
       "    }\n",
       "\n",
       "    .dataframe tbody tr th {\n",
       "        vertical-align: top;\n",
       "    }\n",
       "\n",
       "    .dataframe thead th {\n",
       "        text-align: right;\n",
       "    }\n",
       "</style>\n",
       "<table border=\"1\" class=\"dataframe\">\n",
       "  <thead>\n",
       "    <tr style=\"text-align: right;\">\n",
       "      <th></th>\n",
       "      <th>0.0029710983982936933</th>\n",
       "      <th>-1.0496973576657675e-05</th>\n",
       "      <th>1.8080877161801384e-05</th>\n",
       "      <th>-0.00011984507453505258</th>\n",
       "      <th>-0.00010231400125552553</th>\n",
       "      <th>Unnamed: 5</th>\n",
       "    </tr>\n",
       "  </thead>\n",
       "  <tbody>\n",
       "    <tr>\n",
       "      <th>0</th>\n",
       "      <td>-0.000010</td>\n",
       "      <td>0.005863</td>\n",
       "      <td>0.005506</td>\n",
       "      <td>0.005478</td>\n",
       "      <td>-0.000045</td>\n",
       "      <td>NaN</td>\n",
       "    </tr>\n",
       "    <tr>\n",
       "      <th>1</th>\n",
       "      <td>0.000018</td>\n",
       "      <td>0.005506</td>\n",
       "      <td>0.008561</td>\n",
       "      <td>0.005882</td>\n",
       "      <td>0.000017</td>\n",
       "      <td>NaN</td>\n",
       "    </tr>\n",
       "    <tr>\n",
       "      <th>2</th>\n",
       "      <td>-0.000120</td>\n",
       "      <td>0.005478</td>\n",
       "      <td>0.005882</td>\n",
       "      <td>0.009737</td>\n",
       "      <td>0.000040</td>\n",
       "      <td>NaN</td>\n",
       "    </tr>\n",
       "    <tr>\n",
       "      <th>3</th>\n",
       "      <td>-0.000102</td>\n",
       "      <td>-0.000045</td>\n",
       "      <td>0.000017</td>\n",
       "      <td>0.000040</td>\n",
       "      <td>0.000371</td>\n",
       "      <td>NaN</td>\n",
       "    </tr>\n",
       "  </tbody>\n",
       "</table>\n",
       "</div>"
      ],
      "text/plain": [
       "   0.0029710983982936933  -1.0496973576657675e-05  1.8080877161801384e-05  \\\n",
       "0              -0.000010                 0.005863                0.005506   \n",
       "1               0.000018                 0.005506                0.008561   \n",
       "2              -0.000120                 0.005478                0.005882   \n",
       "3              -0.000102                -0.000045                0.000017   \n",
       "\n",
       "   -0.00011984507453505258  -0.00010231400125552553  Unnamed: 5  \n",
       "0                 0.005478                -0.000045         NaN  \n",
       "1                 0.005882                 0.000017         NaN  \n",
       "2                 0.009737                 0.000040         NaN  \n",
       "3                 0.000040                 0.000371         NaN  "
      ]
     },
     "execution_count": 3,
     "metadata": {},
     "output_type": "execute_result"
    }
   ],
   "source": [
    "df_port.head(10)"
   ]
  },
  {
   "cell_type": "code",
   "execution_count": 4,
   "id": "1bb0e554-50e7-44e2-a700-5e6125865eb0",
   "metadata": {},
   "outputs": [
    {
     "data": {
      "text/html": [
       "<div>\n",
       "<style scoped>\n",
       "    .dataframe tbody tr th:only-of-type {\n",
       "        vertical-align: middle;\n",
       "    }\n",
       "\n",
       "    .dataframe tbody tr th {\n",
       "        vertical-align: top;\n",
       "    }\n",
       "\n",
       "    .dataframe thead th {\n",
       "        text-align: right;\n",
       "    }\n",
       "</style>\n",
       "<table border=\"1\" class=\"dataframe\">\n",
       "  <thead>\n",
       "    <tr style=\"text-align: right;\">\n",
       "      <th></th>\n",
       "      <th>Date</th>\n",
       "      <th>NFLX</th>\n",
       "      <th>ORCL</th>\n",
       "      <th>TSLA</th>\n",
       "      <th>AMBA</th>\n",
       "      <th>GOOG</th>\n",
       "    </tr>\n",
       "  </thead>\n",
       "  <tbody>\n",
       "    <tr>\n",
       "      <th>0</th>\n",
       "      <td>2015-01-08</td>\n",
       "      <td>-0.009129</td>\n",
       "      <td>0.009986</td>\n",
       "      <td>0.020136</td>\n",
       "      <td>0.020017</td>\n",
       "      <td>-0.023177</td>\n",
       "    </tr>\n",
       "    <tr>\n",
       "      <th>1</th>\n",
       "      <td>2015-01-15</td>\n",
       "      <td>0.207780</td>\n",
       "      <td>-0.018395</td>\n",
       "      <td>0.014244</td>\n",
       "      <td>-0.035696</td>\n",
       "      <td>-0.001713</td>\n",
       "    </tr>\n",
       "    <tr>\n",
       "      <th>2</th>\n",
       "      <td>2015-01-22</td>\n",
       "      <td>0.074990</td>\n",
       "      <td>-0.006324</td>\n",
       "      <td>0.096203</td>\n",
       "      <td>-0.008421</td>\n",
       "      <td>0.003153</td>\n",
       "    </tr>\n",
       "    <tr>\n",
       "      <th>3</th>\n",
       "      <td>2015-01-29</td>\n",
       "      <td>0.013929</td>\n",
       "      <td>0.022159</td>\n",
       "      <td>-0.026310</td>\n",
       "      <td>-0.029724</td>\n",
       "      <td>-0.012951</td>\n",
       "    </tr>\n",
       "    <tr>\n",
       "      <th>4</th>\n",
       "      <td>2015-02-05</td>\n",
       "      <td>0.013586</td>\n",
       "      <td>0.017067</td>\n",
       "      <td>-0.039192</td>\n",
       "      <td>-0.057622</td>\n",
       "      <td>-0.007296</td>\n",
       "    </tr>\n",
       "    <tr>\n",
       "      <th>5</th>\n",
       "      <td>2015-02-12</td>\n",
       "      <td>0.042458</td>\n",
       "      <td>-0.008390</td>\n",
       "      <td>-0.003424</td>\n",
       "      <td>0.095975</td>\n",
       "      <td>0.007370</td>\n",
       "    </tr>\n",
       "    <tr>\n",
       "      <th>6</th>\n",
       "      <td>2015-02-19</td>\n",
       "      <td>0.006836</td>\n",
       "      <td>-0.002744</td>\n",
       "      <td>-0.006478</td>\n",
       "      <td>0.191561</td>\n",
       "      <td>0.009452</td>\n",
       "    </tr>\n",
       "    <tr>\n",
       "      <th>7</th>\n",
       "      <td>2015-02-26</td>\n",
       "      <td>-0.018222</td>\n",
       "      <td>-0.049071</td>\n",
       "      <td>-0.042976</td>\n",
       "      <td>0.001926</td>\n",
       "      <td>0.001837</td>\n",
       "    </tr>\n",
       "    <tr>\n",
       "      <th>8</th>\n",
       "      <td>2015-03-05</td>\n",
       "      <td>-0.067198</td>\n",
       "      <td>0.064143</td>\n",
       "      <td>0.035976</td>\n",
       "      <td>0.012718</td>\n",
       "      <td>0.012535</td>\n",
       "    </tr>\n",
       "    <tr>\n",
       "      <th>9</th>\n",
       "      <td>2015-03-12</td>\n",
       "      <td>-0.040343</td>\n",
       "      <td>-0.027193</td>\n",
       "      <td>-0.031937</td>\n",
       "      <td>0.015771</td>\n",
       "      <td>-0.002322</td>\n",
       "    </tr>\n",
       "  </tbody>\n",
       "</table>\n",
       "</div>"
      ],
      "text/plain": [
       "         Date      NFLX      ORCL      TSLA      AMBA      GOOG\n",
       "0  2015-01-08 -0.009129  0.009986  0.020136  0.020017 -0.023177\n",
       "1  2015-01-15  0.207780 -0.018395  0.014244 -0.035696 -0.001713\n",
       "2  2015-01-22  0.074990 -0.006324  0.096203 -0.008421  0.003153\n",
       "3  2015-01-29  0.013929  0.022159 -0.026310 -0.029724 -0.012951\n",
       "4  2015-02-05  0.013586  0.017067 -0.039192 -0.057622 -0.007296\n",
       "5  2015-02-12  0.042458 -0.008390 -0.003424  0.095975  0.007370\n",
       "6  2015-02-19  0.006836 -0.002744 -0.006478  0.191561  0.009452\n",
       "7  2015-02-26 -0.018222 -0.049071 -0.042976  0.001926  0.001837\n",
       "8  2015-03-05 -0.067198  0.064143  0.035976  0.012718  0.012535\n",
       "9  2015-03-12 -0.040343 -0.027193 -0.031937  0.015771 -0.002322"
      ]
     },
     "execution_count": 4,
     "metadata": {},
     "output_type": "execute_result"
    }
   ],
   "source": [
    "df_stocks.head(10)"
   ]
  },
  {
   "cell_type": "code",
   "execution_count": 5,
   "id": "6570ef39-3f71-4dc0-9618-8dbe7fca75df",
   "metadata": {},
   "outputs": [
    {
     "data": {
      "text/plain": [
       "RangeIndex(start=0, stop=195, step=1)"
      ]
     },
     "execution_count": 5,
     "metadata": {},
     "output_type": "execute_result"
    }
   ],
   "source": [
    "df_stocks.index"
   ]
  },
  {
   "cell_type": "code",
   "execution_count": 6,
   "id": "397afc45-cc01-4dab-b093-816e691801c6",
   "metadata": {},
   "outputs": [
    {
     "data": {
      "text/plain": [
       "Index(['Date', 'NFLX', 'ORCL', 'TSLA', 'AMBA', 'GOOG'], dtype='object')"
      ]
     },
     "execution_count": 6,
     "metadata": {},
     "output_type": "execute_result"
    }
   ],
   "source": [
    "df_stocks.columns"
   ]
  },
  {
   "cell_type": "code",
   "execution_count": 7,
   "id": "188aed3c-ffa9-40f0-b06b-7658721e9c78",
   "metadata": {},
   "outputs": [
    {
     "data": {
      "text/plain": [
       "RangeIndex(start=0, stop=195, step=1)"
      ]
     },
     "execution_count": 7,
     "metadata": {},
     "output_type": "execute_result"
    }
   ],
   "source": [
    "df_stocks.reset_index(inplace=True, drop=True)\n",
    "df_stocks.index"
   ]
  },
  {
   "cell_type": "code",
   "execution_count": 8,
   "id": "a523aa5b-a8b5-4d35-ab04-012cde7da92a",
   "metadata": {},
   "outputs": [
    {
     "data": {
      "text/plain": [
       "-0.00912908031088083"
      ]
     },
     "execution_count": 8,
     "metadata": {},
     "output_type": "execute_result"
    }
   ],
   "source": [
    "df_stocks.iloc[0][1]"
   ]
  },
  {
   "cell_type": "code",
   "execution_count": 9,
   "id": "992ef367-d0f7-4f44-bcda-4755d5b2fa86",
   "metadata": {},
   "outputs": [
    {
     "data": {
      "text/html": [
       "<div>\n",
       "<style scoped>\n",
       "    .dataframe tbody tr th:only-of-type {\n",
       "        vertical-align: middle;\n",
       "    }\n",
       "\n",
       "    .dataframe tbody tr th {\n",
       "        vertical-align: top;\n",
       "    }\n",
       "\n",
       "    .dataframe thead th {\n",
       "        text-align: right;\n",
       "    }\n",
       "</style>\n",
       "<table border=\"1\" class=\"dataframe\">\n",
       "  <thead>\n",
       "    <tr style=\"text-align: right;\">\n",
       "      <th></th>\n",
       "      <th>NFLX</th>\n",
       "      <th>ORCL</th>\n",
       "      <th>TSLA</th>\n",
       "      <th>AMBA</th>\n",
       "      <th>GOOG</th>\n",
       "    </tr>\n",
       "    <tr>\n",
       "      <th>Date</th>\n",
       "      <th></th>\n",
       "      <th></th>\n",
       "      <th></th>\n",
       "      <th></th>\n",
       "      <th></th>\n",
       "    </tr>\n",
       "  </thead>\n",
       "  <tbody>\n",
       "    <tr>\n",
       "      <th>2015-01-08</th>\n",
       "      <td>-0.009129</td>\n",
       "      <td>0.009986</td>\n",
       "      <td>0.020136</td>\n",
       "      <td>0.020017</td>\n",
       "      <td>-0.023177</td>\n",
       "    </tr>\n",
       "    <tr>\n",
       "      <th>2015-01-15</th>\n",
       "      <td>0.207780</td>\n",
       "      <td>-0.018395</td>\n",
       "      <td>0.014244</td>\n",
       "      <td>-0.035696</td>\n",
       "      <td>-0.001713</td>\n",
       "    </tr>\n",
       "    <tr>\n",
       "      <th>2015-01-22</th>\n",
       "      <td>0.074990</td>\n",
       "      <td>-0.006324</td>\n",
       "      <td>0.096203</td>\n",
       "      <td>-0.008421</td>\n",
       "      <td>0.003153</td>\n",
       "    </tr>\n",
       "    <tr>\n",
       "      <th>2015-01-29</th>\n",
       "      <td>0.013929</td>\n",
       "      <td>0.022159</td>\n",
       "      <td>-0.026310</td>\n",
       "      <td>-0.029724</td>\n",
       "      <td>-0.012951</td>\n",
       "    </tr>\n",
       "    <tr>\n",
       "      <th>2015-02-05</th>\n",
       "      <td>0.013586</td>\n",
       "      <td>0.017067</td>\n",
       "      <td>-0.039192</td>\n",
       "      <td>-0.057622</td>\n",
       "      <td>-0.007296</td>\n",
       "    </tr>\n",
       "    <tr>\n",
       "      <th>...</th>\n",
       "      <td>...</td>\n",
       "      <td>...</td>\n",
       "      <td>...</td>\n",
       "      <td>...</td>\n",
       "      <td>...</td>\n",
       "    </tr>\n",
       "    <tr>\n",
       "      <th>2018-08-30</th>\n",
       "      <td>-0.078727</td>\n",
       "      <td>0.027061</td>\n",
       "      <td>0.034908</td>\n",
       "      <td>0.030583</td>\n",
       "      <td>-0.004772</td>\n",
       "    </tr>\n",
       "    <tr>\n",
       "      <th>2018-09-06</th>\n",
       "      <td>0.077767</td>\n",
       "      <td>0.001824</td>\n",
       "      <td>0.029187</td>\n",
       "      <td>-0.090274</td>\n",
       "      <td>-0.004982</td>\n",
       "    </tr>\n",
       "    <tr>\n",
       "      <th>2018-09-13</th>\n",
       "      <td>-0.008148</td>\n",
       "      <td>0.044507</td>\n",
       "      <td>0.035315</td>\n",
       "      <td>0.042489</td>\n",
       "      <td>0.006962</td>\n",
       "    </tr>\n",
       "    <tr>\n",
       "      <th>2018-09-20</th>\n",
       "      <td>0.028898</td>\n",
       "      <td>-0.001356</td>\n",
       "      <td>-0.144745</td>\n",
       "      <td>0.017092</td>\n",
       "      <td>0.004754</td>\n",
       "    </tr>\n",
       "    <tr>\n",
       "      <th>2018-09-27</th>\n",
       "      <td>-0.010023</td>\n",
       "      <td>-1.000000</td>\n",
       "      <td>-1.000000</td>\n",
       "      <td>-1.000000</td>\n",
       "      <td>0.008706</td>\n",
       "    </tr>\n",
       "  </tbody>\n",
       "</table>\n",
       "<p>195 rows × 5 columns</p>\n",
       "</div>"
      ],
      "text/plain": [
       "                NFLX      ORCL      TSLA      AMBA      GOOG\n",
       "Date                                                        \n",
       "2015-01-08 -0.009129  0.009986  0.020136  0.020017 -0.023177\n",
       "2015-01-15  0.207780 -0.018395  0.014244 -0.035696 -0.001713\n",
       "2015-01-22  0.074990 -0.006324  0.096203 -0.008421  0.003153\n",
       "2015-01-29  0.013929  0.022159 -0.026310 -0.029724 -0.012951\n",
       "2015-02-05  0.013586  0.017067 -0.039192 -0.057622 -0.007296\n",
       "...              ...       ...       ...       ...       ...\n",
       "2018-08-30 -0.078727  0.027061  0.034908  0.030583 -0.004772\n",
       "2018-09-06  0.077767  0.001824  0.029187 -0.090274 -0.004982\n",
       "2018-09-13 -0.008148  0.044507  0.035315  0.042489  0.006962\n",
       "2018-09-20  0.028898 -0.001356 -0.144745  0.017092  0.004754\n",
       "2018-09-27 -0.010023 -1.000000 -1.000000 -1.000000  0.008706\n",
       "\n",
       "[195 rows x 5 columns]"
      ]
     },
     "execution_count": 9,
     "metadata": {},
     "output_type": "execute_result"
    }
   ],
   "source": [
    "df_stocks.set_index('Date')"
   ]
  },
  {
   "cell_type": "markdown",
   "id": "5a0f3a88-7a02-4184-9e12-0699e72cdc85",
   "metadata": {},
   "source": [
    "## return-variance-std.dev"
   ]
  },
  {
   "cell_type": "code",
   "execution_count": 10,
   "id": "30e17bb9-530f-415f-8d57-d161a27ceb8c",
   "metadata": {},
   "outputs": [
    {
     "data": {
      "text/plain": [
       "[0.9093335465993881,\n",
       " -0.3546580676794178,\n",
       " -0.1782128832389155,\n",
       " -0.4860036490624269,\n",
       " 0.14166651318909246]"
      ]
     },
     "execution_count": 10,
     "metadata": {},
     "output_type": "execute_result"
    }
   ],
   "source": [
    "return_nflx=np.mean(df_stocks['NFLX'])*100\n",
    "return_orcl=np.mean(df_stocks['ORCL'])*100\n",
    "return_tsla=np.mean(df_stocks['TSLA'])*100\n",
    "return_amba=np.mean(df_stocks['AMBA'])*100\n",
    "return_goog=np.mean(df_stocks['GOOG'])*100\n",
    "\n",
    "Return = [return_nflx, return_orcl, return_tsla, return_amba, return_goog]\n",
    "Return"
   ]
  },
  {
   "cell_type": "code",
   "execution_count": 11,
   "id": "dbd3247d-5aed-4935-9184-2e63e1c03d94",
   "metadata": {},
   "outputs": [
    {
     "data": {
      "text/plain": [
       "[0.29710983982936934,\n",
       " 0.5862767119497923,\n",
       " 0.856062870093397,\n",
       " 0.973713506138789,\n",
       " 0.03710180977760336]"
      ]
     },
     "execution_count": 11,
     "metadata": {},
     "output_type": "execute_result"
    }
   ],
   "source": [
    "var_nflx=np.var(df_stocks['NFLX'])*100\n",
    "var_orcl=np.var(df_stocks['ORCL'])*100\n",
    "var_tsla=np.var(df_stocks['TSLA'])*100\n",
    "var_amba=np.var(df_stocks['AMBA'])*100\n",
    "var_goog=np.var(df_stocks['GOOG'])*100\n",
    "\n",
    "Var = [var_nflx, var_orcl, var_tsla, var_amba, var_goog]\n",
    "Var"
   ]
  },
  {
   "cell_type": "code",
   "execution_count": 12,
   "id": "da14e684-7ee0-42e3-9aa6-0b0f451cef8e",
   "metadata": {},
   "outputs": [
    {
     "data": {
      "text/plain": [
       "[0.9535898209394793,\n",
       " 0.5955317520329355,\n",
       " 0.4221526776403479,\n",
       " 0.6971396194898314,\n",
       " 0.3763861224714488]"
      ]
     },
     "execution_count": 12,
     "metadata": {},
     "output_type": "execute_result"
    }
   ],
   "source": [
    "StdDev =[float(pow(abs(return_nflx),0.5)), float(pow(abs(return_orcl),0.5)), float(pow(abs(return_tsla),0.5)), float(pow(abs(return_amba),0.5)), float(pow(abs(return_goog),0.5))]\n",
    "StdDev"
   ]
  },
  {
   "cell_type": "code",
   "execution_count": 13,
   "id": "82b65e42-626e-48e1-9073-1d2a5f26586f",
   "metadata": {},
   "outputs": [
    {
     "data": {
      "text/plain": [
       "(3, 5)"
      ]
     },
     "execution_count": 13,
     "metadata": {},
     "output_type": "execute_result"
    }
   ],
   "source": [
    "df_data = pd.DataFrame([Return, Var, StdDev])\n",
    "df_data.shape"
   ]
  },
  {
   "cell_type": "code",
   "execution_count": 14,
   "id": "4e4da6c3-8a0d-4336-af0f-2166c29d00f8",
   "metadata": {},
   "outputs": [
    {
     "data": {
      "text/html": [
       "<div>\n",
       "<style scoped>\n",
       "    .dataframe tbody tr th:only-of-type {\n",
       "        vertical-align: middle;\n",
       "    }\n",
       "\n",
       "    .dataframe tbody tr th {\n",
       "        vertical-align: top;\n",
       "    }\n",
       "\n",
       "    .dataframe thead th {\n",
       "        text-align: right;\n",
       "    }\n",
       "</style>\n",
       "<table border=\"1\" class=\"dataframe\">\n",
       "  <thead>\n",
       "    <tr style=\"text-align: right;\">\n",
       "      <th></th>\n",
       "      <th>NFLX</th>\n",
       "      <th>ORCL</th>\n",
       "      <th>TSLA</th>\n",
       "      <th>AMBA</th>\n",
       "      <th>GOOG</th>\n",
       "    </tr>\n",
       "  </thead>\n",
       "  <tbody>\n",
       "    <tr>\n",
       "      <th>return</th>\n",
       "      <td>0.909334</td>\n",
       "      <td>-0.354658</td>\n",
       "      <td>-0.178213</td>\n",
       "      <td>-0.486004</td>\n",
       "      <td>0.141667</td>\n",
       "    </tr>\n",
       "    <tr>\n",
       "      <th>variance</th>\n",
       "      <td>0.297110</td>\n",
       "      <td>0.586277</td>\n",
       "      <td>0.856063</td>\n",
       "      <td>0.973714</td>\n",
       "      <td>0.037102</td>\n",
       "    </tr>\n",
       "    <tr>\n",
       "      <th>std dev</th>\n",
       "      <td>0.953590</td>\n",
       "      <td>0.595532</td>\n",
       "      <td>0.422153</td>\n",
       "      <td>0.697140</td>\n",
       "      <td>0.376386</td>\n",
       "    </tr>\n",
       "  </tbody>\n",
       "</table>\n",
       "</div>"
      ],
      "text/plain": [
       "              NFLX      ORCL      TSLA      AMBA      GOOG\n",
       "return    0.909334 -0.354658 -0.178213 -0.486004  0.141667\n",
       "variance  0.297110  0.586277  0.856063  0.973714  0.037102\n",
       "std dev   0.953590  0.595532  0.422153  0.697140  0.376386"
      ]
     },
     "execution_count": 14,
     "metadata": {},
     "output_type": "execute_result"
    }
   ],
   "source": [
    "df_data.rename(index={0: 'return', 1: 'variance', 2: 'std dev'}, inplace=True)\n",
    "df_data.rename(columns={0: 'NFLX', 1: 'ORCL', 2: 'TSLA', 3: 'AMBA', 4: 'GOOG'}, inplace=True)\n",
    "df_data"
   ]
  },
  {
   "cell_type": "code",
   "execution_count": 15,
   "id": "4e6c1453-46fe-4613-afb1-ea4ab4faf39c",
   "metadata": {},
   "outputs": [
    {
     "data": {
      "text/plain": [
       "(-1.0, 1.5)"
      ]
     },
     "execution_count": 15,
     "metadata": {},
     "output_type": "execute_result"
    },
    {
     "data": {
      "image/png": "[encoded data removed]",
      "text/plain": [
       "<Figure size 432x288 with 1 Axes>"
      ]
     },
     "metadata": {
      "needs_background": "light"
     },
     "output_type": "display_data"
    }
   ],
   "source": [
    "plt.plot(Return, StdDev, 'r+')\n",
    "plt.xlabel(\"Standard Deviation\")\n",
    "plt.ylim((0,1.5))\n",
    "plt.ylabel(\"Return\")\n",
    "plt.ylim((-1,1.5))"
   ]
  },
  {
   "cell_type": "markdown",
   "id": "3b7f072a-9c6b-469d-a615-4e3feb88a606",
   "metadata": {},
   "source": [
    "## varience&covariance matrix"
   ]
  },
  {
   "cell_type": "code",
   "execution_count": 16,
   "id": "874317a8-2aa2-42c1-a8f6-9f7aac0fb766",
   "metadata": {},
   "outputs": [
    {
     "data": {
      "text/plain": [
       "0.2986413338491083"
      ]
     },
     "execution_count": 16,
     "metadata": {},
     "output_type": "execute_result"
    }
   ],
   "source": [
    "cov_nflx = np.cov(df_stocks['NFLX'])*100\n",
    "cov_nflx "
   ]
  },
  {
   "cell_type": "code",
   "execution_count": 17,
   "id": "b6eb2437-5e2c-45a5-a117-7d4a59e5d63f",
   "metadata": {
    "collapsed": true,
    "jupyter": {
     "outputs_hidden": true
    },
    "tags": []
   },
   "outputs": [
    {
     "data": {
      "text/plain": [
       "\u001b[1;31mSignature:\u001b[0m\n",
       "\u001b[0mnp\u001b[0m\u001b[1;33m.\u001b[0m\u001b[0mcov\u001b[0m\u001b[1;33m(\u001b[0m\u001b[1;33m\n",
       "\u001b[0m    \u001b[0mm\u001b[0m\u001b[1;33m,\u001b[0m\u001b[1;33m\n",
       "\u001b[0m    \u001b[0my\u001b[0m\u001b[1;33m=\u001b[0m\u001b[1;32mNone\u001b[0m\u001b[1;33m,\u001b[0m\u001b[1;33m\n",
       "\u001b[0m    \u001b[0mrowvar\u001b[0m\u001b[1;33m=\u001b[0m\u001b[1;32mTrue\u001b[0m\u001b[1;33m,\u001b[0m\u001b[1;33m\n",
       "\u001b[0m    \u001b[0mbias\u001b[0m\u001b[1;33m=\u001b[0m\u001b[1;32mFalse\u001b[0m\u001b[1;33m,\u001b[0m\u001b[1;33m\n",
       "\u001b[0m    \u001b[0mddof\u001b[0m\u001b[1;33m=\u001b[0m\u001b[1;32mNone\u001b[0m\u001b[1;33m,\u001b[0m\u001b[1;33m\n",
       "\u001b[0m    \u001b[0mfweights\u001b[0m\u001b[1;33m=\u001b[0m\u001b[1;32mNone\u001b[0m\u001b[1;33m,\u001b[0m\u001b[1;33m\n",
       "\u001b[0m    \u001b[0maweights\u001b[0m\u001b[1;33m=\u001b[0m\u001b[1;32mNone\u001b[0m\u001b[1;33m,\u001b[0m\u001b[1;33m\n",
       "\u001b[0m    \u001b[1;33m*\u001b[0m\u001b[1;33m,\u001b[0m\u001b[1;33m\n",
       "\u001b[0m    \u001b[0mdtype\u001b[0m\u001b[1;33m=\u001b[0m\u001b[1;32mNone\u001b[0m\u001b[1;33m,\u001b[0m\u001b[1;33m\n",
       "\u001b[0m\u001b[1;33m)\u001b[0m\u001b[1;33m\u001b[0m\u001b[1;33m\u001b[0m\u001b[0m\n",
       "\u001b[1;31mDocstring:\u001b[0m\n",
       "Estimate a covariance matrix, given data and weights.\n",
       "\n",
       "Covariance indicates the level to which two variables vary together.\n",
       "If we examine N-dimensional samples, :math:`X = [x_1, x_2, ... x_N]^T`,\n",
       "then the covariance matrix element :math:`C_{ij}` is the covariance of\n",
       ":math:`x_i` and :math:`x_j`. The element :math:`C_{ii}` is the variance\n",
       "of :math:`x_i`.\n",
       "\n",
       "See the notes for an outline of the algorithm.\n",
       "\n",
       "Parameters\n",
       "----------\n",
       "m : array_like\n",
       "    A 1-D or 2-D array containing multiple variables and observations.\n",
       "    Each row of `m` represents a variable, and each column a single\n",
       "    observation of all those variables. Also see `rowvar` below.\n",
       "y : array_like, optional\n",
       "    An additional set of variables and observations. `y` has the same form\n",
       "    as that of `m`.\n",
       "rowvar : bool, optional\n",
       "    If `rowvar` is True (default), then each row represents a\n",
       "    variable, with observations in the columns. Otherwise, the relationship\n",
       "    is transposed: each column represents a variable, while the rows\n",
       "    contain observations.\n",
       "bias : bool, optional\n",
       "    Default normalization (False) is by ``(N - 1)``, where ``N`` is the\n",
       "    number of observations given (unbiased estimate). If `bias` is True,\n",
       "    then normalization is by ``N``. These values can be overridden by using\n",
       "    the keyword ``ddof`` in numpy versions >= 1.5.\n",
       "ddof : int, optional\n",
       "    If not ``None`` the default value implied by `bias` is overridden.\n",
       "    Note that ``ddof=1`` will return the unbiased estimate, even if both\n",
       "    `fweights` and `aweights` are specified, and ``ddof=0`` will return\n",
       "    the simple average. See the notes for the details. The default value\n",
       "    is ``None``.\n",
       "\n",
       "    .. versionadded:: 1.5\n",
       "fweights : array_like, int, optional\n",
       "    1-D array of integer frequency weights; the number of times each\n",
       "    observation vector should be repeated.\n",
       "\n",
       "    .. versionadded:: 1.10\n",
       "aweights : array_like, optional\n",
       "    1-D array of observation vector weights. These relative weights are\n",
       "    typically large for observations considered \"important\" and smaller for\n",
       "    observations considered less \"important\". If ``ddof=0`` the array of\n",
       "    weights can be used to assign probabilities to observation vectors.\n",
       "\n",
       "    .. versionadded:: 1.10\n",
       "dtype : data-type, optional\n",
       "    Data-type of the result. By default, the return data-type will have\n",
       "    at least `numpy.float64` precision.\n",
       "\n",
       "    .. versionadded:: 1.20\n",
       "\n",
       "Returns\n",
       "-------\n",
       "out : ndarray\n",
       "    The covariance matrix of the variables.\n",
       "\n",
       "See Also\n",
       "--------\n",
       "corrcoef : Normalized covariance matrix\n",
       "\n",
       "Notes\n",
       "-----\n",
       "Assume that the observations are in the columns of the observation\n",
       "array `m` and let ``f = fweights`` and ``a = aweights`` for brevity. The\n",
       "steps to compute the weighted covariance are as follows::\n",
       "\n",
       "    >>> m = np.arange(10, dtype=np.float64)\n",
       "    >>> f = np.arange(10) * 2\n",
       "    >>> a = np.arange(10) ** 2.\n",
       "    >>> ddof = 1\n",
       "    >>> w = f * a\n",
       "    >>> v1 = np.sum(w)\n",
       "    >>> v2 = np.sum(w * a)\n",
       "    >>> m -= np.sum(m * w, axis=None, keepdims=True) / v1\n",
       "    >>> cov = np.dot(m * w, m.T) * v1 / (v1**2 - ddof * v2)\n",
       "\n",
       "Note that when ``a == 1``, the normalization factor\n",
       "``v1 / (v1**2 - ddof * v2)`` goes over to ``1 / (np.sum(f) - ddof)``\n",
       "as it should.\n",
       "\n",
       "Examples\n",
       "--------\n",
       "Consider two variables, :math:`x_0` and :math:`x_1`, which\n",
       "correlate perfectly, but in opposite directions:\n",
       "\n",
       ">>> x = np.array([[0, 2], [1, 1], [2, 0]]).T\n",
       ">>> x\n",
       "array([[0, 1, 2],\n",
       "       [2, 1, 0]])\n",
       "\n",
       "Note how :math:`x_0` increases while :math:`x_1` decreases. The covariance\n",
       "matrix shows this clearly:\n",
       "\n",
       ">>> np.cov(x)\n",
       "array([[ 1., -1.],\n",
       "       [-1.,  1.]])\n",
       "\n",
       "Note that element :math:`C_{0,1}`, which shows the correlation between\n",
       ":math:`x_0` and :math:`x_1`, is negative.\n",
       "\n",
       "Further, note how `x` and `y` are combined:\n",
       "\n",
       ">>> x = [-2.1, -1,  4.3]\n",
       ">>> y = [3,  1.1,  0.12]\n",
       ">>> X = np.stack((x, y), axis=0)\n",
       ">>> np.cov(X)\n",
       "array([[11.71      , -4.286     ], # may vary\n",
       "       [-4.286     ,  2.144133]])\n",
       ">>> np.cov(x, y)\n",
       "array([[11.71      , -4.286     ], # may vary\n",
       "       [-4.286     ,  2.144133]])\n",
       ">>> np.cov(x)\n",
       "array(11.71)\n",
       "\u001b[1;31mFile:\u001b[0m      c:\\programdata\\anaconda3\\lib\\site-packages\\numpy\\lib\\function_base.py\n",
       "\u001b[1;31mType:\u001b[0m      function\n"
      ]
     },
     "metadata": {},
     "output_type": "display_data"
    }
   ],
   "source": [
    "?np.cov"
   ]
  },
  {
   "cell_type": "code",
   "execution_count": 18,
   "id": "d0117185-5aa1-44e5-a2cd-8b42916f37c9",
   "metadata": {},
   "outputs": [
    {
     "data": {
      "text/plain": [
       "0.5892987568567499"
      ]
     },
     "execution_count": 18,
     "metadata": {},
     "output_type": "execute_result"
    }
   ],
   "source": [
    "cov_orcl = np.cov(df_stocks['ORCL'])*100\n",
    "cov_orcl"
   ]
  },
  {
   "cell_type": "code",
   "execution_count": 19,
   "id": "fade4039-b2d6-4b7a-8a73-a8dccafd7c43",
   "metadata": {},
   "outputs": [
    {
     "data": {
      "text/plain": [
       "0.860475565300064"
      ]
     },
     "execution_count": 19,
     "metadata": {},
     "output_type": "execute_result"
    }
   ],
   "source": [
    "cov_tsla = np.cov(df_stocks['TSLA'])*100\n",
    "cov_tsla"
   ]
  },
  {
   "cell_type": "code",
   "execution_count": 20,
   "id": "d32b5e87-3b02-412d-b86b-e0b09c4052b7",
   "metadata": {},
   "outputs": [
    {
     "data": {
      "text/plain": [
       "0.9787326479230095"
      ]
     },
     "execution_count": 20,
     "metadata": {},
     "output_type": "execute_result"
    }
   ],
   "source": [
    "cov_amba = np.cov(df_stocks['AMBA'])*100\n",
    "cov_amba"
   ]
  },
  {
   "cell_type": "code",
   "execution_count": 21,
   "id": "1a7d7654-b4cb-4632-81af-0a6619cd22ed",
   "metadata": {},
   "outputs": [
    {
     "data": {
      "text/plain": [
       "0.03729305621975598"
      ]
     },
     "execution_count": 21,
     "metadata": {},
     "output_type": "execute_result"
    }
   ],
   "source": [
    "cov_goog = np.cov(df_stocks['GOOG'])*100\n",
    "cov_goog"
   ]
  },
  {
   "cell_type": "code",
   "execution_count": 22,
   "id": "822a930a-10db-4e59-bc97-b03cc57eca9b",
   "metadata": {},
   "outputs": [
    {
     "data": {
      "text/plain": [
       "[0.2986413338491083,\n",
       " 0.5892987568567499,\n",
       " 0.860475565300064,\n",
       " 0.9787326479230095,\n",
       " 0.03729305621975598]"
      ]
     },
     "execution_count": 22,
     "metadata": {},
     "output_type": "execute_result"
    }
   ],
   "source": [
    "Cov = [cov_nflx, cov_orcl, cov_tsla, cov_amba, cov_goog]\n",
    "Cov"
   ]
  },
  {
   "cell_type": "code",
   "execution_count": 23,
   "id": "fc20862e-2e29-4314-a4ce-27021781e073",
   "metadata": {},
   "outputs": [
    {
     "data": {
      "text/html": [
       "<div>\n",
       "<style scoped>\n",
       "    .dataframe tbody tr th:only-of-type {\n",
       "        vertical-align: middle;\n",
       "    }\n",
       "\n",
       "    .dataframe tbody tr th {\n",
       "        vertical-align: top;\n",
       "    }\n",
       "\n",
       "    .dataframe thead th {\n",
       "        text-align: right;\n",
       "    }\n",
       "</style>\n",
       "<table border=\"1\" class=\"dataframe\">\n",
       "  <thead>\n",
       "    <tr style=\"text-align: right;\">\n",
       "      <th></th>\n",
       "      <th>NFLX</th>\n",
       "      <th>ORCL</th>\n",
       "      <th>TSLA</th>\n",
       "      <th>AMBA</th>\n",
       "      <th>GOOG</th>\n",
       "    </tr>\n",
       "  </thead>\n",
       "  <tbody>\n",
       "    <tr>\n",
       "      <th>NFLX</th>\n",
       "      <td>0.298641</td>\n",
       "      <td>0.001055</td>\n",
       "      <td>0.001817</td>\n",
       "      <td>0.012046</td>\n",
       "      <td>0.010284</td>\n",
       "    </tr>\n",
       "    <tr>\n",
       "      <th>ORCL</th>\n",
       "      <td>0.001055</td>\n",
       "      <td>0.589299</td>\n",
       "      <td>0.553418</td>\n",
       "      <td>0.550641</td>\n",
       "      <td>0.004556</td>\n",
       "    </tr>\n",
       "    <tr>\n",
       "      <th>TSLA</th>\n",
       "      <td>0.001817</td>\n",
       "      <td>0.553418</td>\n",
       "      <td>0.860476</td>\n",
       "      <td>0.591270</td>\n",
       "      <td>0.001732</td>\n",
       "    </tr>\n",
       "    <tr>\n",
       "      <th>AMBA</th>\n",
       "      <td>0.012046</td>\n",
       "      <td>0.550641</td>\n",
       "      <td>0.591270</td>\n",
       "      <td>0.978733</td>\n",
       "      <td>0.004000</td>\n",
       "    </tr>\n",
       "    <tr>\n",
       "      <th>GOOG</th>\n",
       "      <td>0.010284</td>\n",
       "      <td>0.004556</td>\n",
       "      <td>0.001732</td>\n",
       "      <td>0.004000</td>\n",
       "      <td>0.037293</td>\n",
       "    </tr>\n",
       "  </tbody>\n",
       "</table>\n",
       "</div>"
      ],
      "text/plain": [
       "          NFLX      ORCL      TSLA      AMBA      GOOG\n",
       "NFLX  0.298641  0.001055  0.001817  0.012046  0.010284\n",
       "ORCL  0.001055  0.589299  0.553418  0.550641  0.004556\n",
       "TSLA  0.001817  0.553418  0.860476  0.591270  0.001732\n",
       "AMBA  0.012046  0.550641  0.591270  0.978733  0.004000\n",
       "GOOG  0.010284  0.004556  0.001732  0.004000  0.037293"
      ]
     },
     "execution_count": 23,
     "metadata": {},
     "output_type": "execute_result"
    }
   ],
   "source": [
    "df = pd.DataFrame(df_stocks,columns=['NFLX','ORCL','TSLA','AMBA','GOOG'])\n",
    "covMatriks = abs(pd.DataFrame.cov(df))\n",
    "covMatrix = abs(covMatriks)*100\n",
    "covMatrix"
   ]
  },
  {
   "cell_type": "code",
   "execution_count": 24,
   "id": "14f67964-87c4-4da8-b306-7a8c62a3af72",
   "metadata": {},
   "outputs": [
    {
     "data": {
      "text/plain": [
       "(5, 5)"
      ]
     },
     "execution_count": 24,
     "metadata": {},
     "output_type": "execute_result"
    }
   ],
   "source": [
    "covMatrix.shape"
   ]
  },
  {
   "cell_type": "code",
   "execution_count": 25,
   "id": "0fe7f6e5-99b3-4f68-966b-02193d82b2af",
   "metadata": {},
   "outputs": [
    {
     "data": {
      "text/plain": [
       "(3, 5)"
      ]
     },
     "execution_count": 25,
     "metadata": {},
     "output_type": "execute_result"
    }
   ],
   "source": [
    "df_data.shape"
   ]
  },
  {
   "cell_type": "markdown",
   "id": "f13c8d6d-d8fd-4598-a2ec-94542d741eb4",
   "metadata": {},
   "source": [
    "## portfolio return "
   ]
  },
  {
   "cell_type": "code",
   "execution_count": 26,
   "id": "42577d11-ee97-4643-8037-73c17b698623",
   "metadata": {},
   "outputs": [
    {
     "data": {
      "text/plain": [
       "array([ 0.90933355, -0.35465807, -0.17821288, -0.48600365,  0.14166651])"
      ]
     },
     "execution_count": 26,
     "metadata": {},
     "output_type": "execute_result"
    }
   ],
   "source": [
    "return_sop = np.array(df_data.iloc[0][0:5])\n",
    "return_sop"
   ]
  },
  {
   "cell_type": "code",
   "execution_count": 27,
   "id": "2a00cff5-840f-4266-804b-2af7b9d60741",
   "metadata": {},
   "outputs": [
    {
     "data": {
      "text/plain": [
       "numpy.float64"
      ]
     },
     "execution_count": 27,
     "metadata": {},
     "output_type": "execute_result"
    }
   ],
   "source": [
    "type(return_sop[1])"
   ]
  },
  {
   "cell_type": "code",
   "execution_count": 28,
   "id": "c3f715b0-b45f-407e-8b07-968076b54853",
   "metadata": {},
   "outputs": [
    {
     "data": {
      "text/plain": [
       "array([0.1 , 0.05, 0.3 , 0.4 , 0.15])"
      ]
     },
     "execution_count": 28,
     "metadata": {},
     "output_type": "execute_result"
    }
   ],
   "source": [
    "weights = np.array([0.1 , 0.05 , 0.3 , 0.4 , 0.15])\n",
    "weights"
   ]
  },
  {
   "cell_type": "code",
   "execution_count": 29,
   "id": "83fc38bf-e940-4087-befd-37827f982dd6",
   "metadata": {},
   "outputs": [
    {
     "data": {
      "text/plain": [
       "0.37778155961891896"
      ]
     },
     "execution_count": 29,
     "metadata": {},
     "output_type": "execute_result"
    }
   ],
   "source": [
    "portfolio_return = np.dot(abs(return_sop), weights)\n",
    "#sum_of_product = abs(return_sop)*weights.T\n",
    "portfolio_return\n",
    "#type(sum_of_prod)"
   ]
  },
  {
   "cell_type": "code",
   "execution_count": 30,
   "id": "49cffaf5-8dc7-4a1b-961e-d83007ef721d",
   "metadata": {},
   "outputs": [],
   "source": [
    "#portfolio_return = 0\n",
    "#for x in range(len(sop)):\n",
    "    #portfolio_return += sop[x]\n",
    "    \n",
    "#portfolio_return"
   ]
  },
  {
   "cell_type": "markdown",
   "id": "589ff17e-9faa-4fa3-b613-fc2484263e13",
   "metadata": {},
   "source": [
    "## portfolio risk"
   ]
  },
  {
   "cell_type": "code",
   "execution_count": 31,
   "id": "a64406c6-4c86-4841-9e75-e023c42981f0",
   "metadata": {},
   "outputs": [
    {
     "data": {
      "text/plain": [
       "0.0042"
      ]
     },
     "execution_count": 31,
     "metadata": {},
     "output_type": "execute_result"
    }
   ],
   "source": [
    "portfolio_risk = round(abs(np.dot(weights, np.dot(covMatriks, weights.T))),4)\n",
    "portfolio_risk "
   ]
  },
  {
   "cell_type": "markdown",
   "id": "4c7a232d-d4ba-4cdd-8310-433bbf19fd15",
   "metadata": {},
   "source": [
    "## portfolio Std. Dev."
   ]
  },
  {
   "cell_type": "code",
   "execution_count": 32,
   "id": "fcbd4676-2461-4727-91e3-6f7e7419bc9e",
   "metadata": {},
   "outputs": [
    {
     "data": {
      "text/plain": [
       "6.5"
      ]
     },
     "execution_count": 32,
     "metadata": {},
     "output_type": "execute_result"
    }
   ],
   "source": [
    "portfolio_stddev = round(float(pow(portfolio_risk, 0.5)), 3)*100\n",
    "portfolio_stddev"
   ]
  },
  {
   "cell_type": "markdown",
   "id": "8db344a7-c1a0-4fd8-a89d-ead0f8f5f511",
   "metadata": {},
   "source": [
    "## sharpe ratio"
   ]
  },
  {
   "cell_type": "code",
   "execution_count": 33,
   "id": "79fe6c7f-c134-4ae4-b426-e51f27bfa761",
   "metadata": {},
   "outputs": [
    {
     "data": {
      "text/plain": [
       "0.05804331686444907"
      ]
     },
     "execution_count": 33,
     "metadata": {},
     "output_type": "execute_result"
    }
   ],
   "source": [
    "risk_free_rate = 0.0005\n",
    "sharpeRateio = (portfolio_return - risk_free_rate) / portfolio_stddev\n",
    "sharpeRateio"
   ]
  },
  {
   "cell_type": "code",
   "execution_count": 228,
   "id": "77740f6e-9672-4a14-86d1-0d476e7024bb",
   "metadata": {},
   "outputs": [
    {
     "data": {
      "text/html": [
       "<div>\n",
       "<style scoped>\n",
       "    .dataframe tbody tr th:only-of-type {\n",
       "        vertical-align: middle;\n",
       "    }\n",
       "\n",
       "    .dataframe tbody tr th {\n",
       "        vertical-align: top;\n",
       "    }\n",
       "\n",
       "    .dataframe thead th {\n",
       "        text-align: right;\n",
       "    }\n",
       "</style>\n",
       "<table border=\"1\" class=\"dataframe\">\n",
       "  <thead>\n",
       "    <tr style=\"text-align: right;\">\n",
       "      <th></th>\n",
       "      <th>weights</th>\n",
       "    </tr>\n",
       "  </thead>\n",
       "  <tbody>\n",
       "    <tr>\n",
       "      <th>0</th>\n",
       "      <td>0.226138</td>\n",
       "    </tr>\n",
       "    <tr>\n",
       "      <th>1</th>\n",
       "      <td>0.060592</td>\n",
       "    </tr>\n",
       "    <tr>\n",
       "      <th>2</th>\n",
       "      <td>0.154244</td>\n",
       "    </tr>\n",
       "    <tr>\n",
       "      <th>3</th>\n",
       "      <td>0.277395</td>\n",
       "    </tr>\n",
       "    <tr>\n",
       "      <th>4</th>\n",
       "      <td>0.281631</td>\n",
       "    </tr>\n",
       "  </tbody>\n",
       "</table>\n",
       "</div>"
      ],
      "text/plain": [
       "    weights\n",
       "0  0.226138\n",
       "1  0.060592\n",
       "2  0.154244\n",
       "3  0.277395\n",
       "4  0.281631"
      ]
     },
     "execution_count": 228,
     "metadata": {},
     "output_type": "execute_result"
    }
   ],
   "source": [
    "number_of_portfolios = 100\n",
    "RF = 0\n",
    "\n",
    "portfolio_returns = portfolio_return\n",
    "portfolio_risk = portfolio_risk\n",
    "sharpe_ratio_port = sharpeRateio\n",
    "portfolio_weights = weights\n",
    "\n",
    "for portfolio in range (number_of_portfolios):\n",
    "    weights = np.random.random_sample((5))\n",
    "    #print(type(weights))\n",
    "    #print(weights)\n",
    "    \n",
    "#below line ensures that the sum of our weights is 1\n",
    "weights = weights / np.sum(weights)\n",
    "df_weights = pd.DataFrame(weights)\n",
    "df_weights.rename(columns={0: 'weights'}, inplace=True)\n",
    "df_weights"
   ]
  },
  {
   "cell_type": "code",
   "execution_count": 226,
   "id": "c9881187-b8f6-45eb-97cf-f9e2acd0fe04",
   "metadata": {},
   "outputs": [
    {
     "data": {
      "text/plain": [
       "(5, 1)"
      ]
     },
     "execution_count": 226,
     "metadata": {},
     "output_type": "execute_result"
    }
   ],
   "source": [
    "df_weights.columns\n",
    "df_weights.shape"
   ]
  },
  {
   "cell_type": "code",
   "execution_count": 229,
   "id": "8d241f6f-91a4-40cf-ab56-206a03d89bd3",
   "metadata": {},
   "outputs": [
    {
     "name": "stdout",
     "output_type": "stream",
     "text": [
      "1.0\n",
      "Sum of the weights are equal to 1\n"
     ]
    }
   ],
   "source": [
    "summation = 0\n",
    "\n",
    "for i in range(len(df_weights)):\n",
    "    summation += df_weights['weights'][i]\n",
    "    \n",
    "print(summation)\n",
    "\n",
    "if summation:\n",
    "    print(\"Sum of the weights are equal to 1\")"
   ]
  },
  {
   "cell_type": "code",
   "execution_count": 96,
   "id": "75fdf7e3-edaa-4c1a-9187-c3745835d8fa",
   "metadata": {},
   "outputs": [
    {
     "data": {
      "text/html": [
       "<div>\n",
       "<style scoped>\n",
       "    .dataframe tbody tr th:only-of-type {\n",
       "        vertical-align: middle;\n",
       "    }\n",
       "\n",
       "    .dataframe tbody tr th {\n",
       "        vertical-align: top;\n",
       "    }\n",
       "\n",
       "    .dataframe thead th {\n",
       "        text-align: right;\n",
       "    }\n",
       "</style>\n",
       "<table border=\"1\" class=\"dataframe\">\n",
       "  <thead>\n",
       "    <tr style=\"text-align: right;\">\n",
       "      <th></th>\n",
       "      <th>weights</th>\n",
       "    </tr>\n",
       "  </thead>\n",
       "  <tbody>\n",
       "    <tr>\n",
       "      <th>0</th>\n",
       "      <td>0.061486</td>\n",
       "    </tr>\n",
       "    <tr>\n",
       "      <th>3</th>\n",
       "      <td>0.137172</td>\n",
       "    </tr>\n",
       "    <tr>\n",
       "      <th>2</th>\n",
       "      <td>0.216751</td>\n",
       "    </tr>\n",
       "    <tr>\n",
       "      <th>4</th>\n",
       "      <td>0.276717</td>\n",
       "    </tr>\n",
       "    <tr>\n",
       "      <th>1</th>\n",
       "      <td>0.307874</td>\n",
       "    </tr>\n",
       "  </tbody>\n",
       "</table>\n",
       "</div>"
      ],
      "text/plain": [
       "    weights\n",
       "0  0.061486\n",
       "3  0.137172\n",
       "2  0.216751\n",
       "4  0.276717\n",
       "1  0.307874"
      ]
     },
     "execution_count": 96,
     "metadata": {},
     "output_type": "execute_result"
    }
   ],
   "source": [
    "df_weights.sort_values(by=['weights'], axis=0, ascending=True, inplace=False, kind='quicksort', na_position='last', ignore_index=False, key=None)"
   ]
  },
  {
   "cell_type": "code",
   "execution_count": 100,
   "id": "4bafe87d-e9aa-46d5-bc96-0cca05ac35f1",
   "metadata": {},
   "outputs": [
    {
     "data": {
      "text/plain": [
       "0.37778155961891896"
      ]
     },
     "execution_count": 100,
     "metadata": {},
     "output_type": "execute_result"
    }
   ],
   "source": [
    "portfolio_return"
   ]
  },
  {
   "cell_type": "code",
   "execution_count": 281,
   "id": "7aa334da-bf91-49db-bc6e-98d00e052187",
   "metadata": {},
   "outputs": [],
   "source": [
    "#return\n",
    "annualize_return = np.sum((portfolio_return * df_weights.T) * 252)\n",
    "annualize_return\n",
    "portfolio_returns = []\n",
    "portfolio_returns.append(annualize_return)\n",
    "portfolio_returns\n",
    "\n",
    "#variance\n",
    "matrix_covariance_portfolio = (df_stocks.cov())*252\n",
    "portfolio_variance = np.dot(weights,np.dot(matrix_covariance_portfolio, df_weights))\n",
    "portfolio_standard_deviation= np.sqrt(portfolio_variance)\n",
    "portfolio_risk = []\n",
    "portfolio_risk.append(portfolio_standard_deviation)\n",
    "\n",
    "#sharpe_ratio\n",
    "sharpe_ratio = ((annualize_return- RF)/portfolio_standard_deviation)\n",
    "sharpe_ratio_port = []\n",
    "sharpe_ratio_port.append(sharpe_ratio)\n",
    "\n",
    "#keep weights as well to find out later the weights from the optimized portfolio\n",
    "portfolio_weights = []\n",
    "portfolio_weights.append(weights)"
   ]
  },
  {
   "cell_type": "code",
   "execution_count": 323,
   "id": "0e367336-f013-47a8-bec6-91f5af86b920",
   "metadata": {},
   "outputs": [
    {
     "data": {
      "text/plain": [
       "array([0.95358982, 0.59553175, 0.42215268, 0.69713962, 0.37638612])"
      ]
     },
     "execution_count": 323,
     "metadata": {},
     "output_type": "execute_result"
    }
   ],
   "source": [
    "#convert to arrays\n",
    "portfolio_risk = np.array(df_data.iloc[2][0:5])\n",
    "portfolio_returns = np.array(portfolio_returns)\n",
    "sharpe_ratio_port = np.array(sharpe_ratio_port)\n",
    "\n",
    "portfolio_risk"
   ]
  },
  {
   "cell_type": "code",
   "execution_count": 325,
   "id": "9fc00f2a-ae17-47bd-b6c4-4119cb12ed0f",
   "metadata": {},
   "outputs": [
    {
     "data": {
      "text/plain": [
       "<matplotlib.colorbar.Colorbar at 0x20692cff970>"
      ]
     },
     "execution_count": 325,
     "metadata": {},
     "output_type": "execute_result"
    },
    {
     "data": {
      "image/png": "[encoded data removed]",
      "text/plain": [
       "<Figure size 720x360 with 2 Axes>"
      ]
     },
     "metadata": {
      "needs_background": "light"
     },
     "output_type": "display_data"
    }
   ],
   "source": [
    "plt.figure(figsize=(10, 5))\n",
    "plt.scatter(portfolio_risk, portfolio_returns, c=portfolio_returns/portfolio_risk) \n",
    "plt.xlabel('volatility')\n",
    "plt.ylabel('returns')\n",
    "plt.xlim([0,1.5])\n",
    "plt.ylim([0,100])\n",
    "plt.colorbar(label='Sharpe ratio')"
   ]
  },
  {
   "cell_type": "code",
   "execution_count": 336,
   "id": "c54a380c-0f1b-4d23-a41b-d7b3baa0ea5c",
   "metadata": {},
   "outputs": [
    {
     "name": "stderr",
     "output_type": "stream",
     "text": [
      "C:\\ProgramData\\Anaconda3\\lib\\site-packages\\pandas\\core\\internals\\construction.py:309: VisibleDeprecationWarning: Creating an ndarray from ragged nested sequences (which is a list-or-tuple of lists-or-tuples-or ndarrays with different lengths or shapes) is deprecated. If you meant to do this, you must specify 'dtype=object' when creating the ndarray.\n",
      "  values = np.array([convert(v) for v in values])\n"
     ]
    },
    {
     "data": {
      "text/html": [
       "<div>\n",
       "<style scoped>\n",
       "    .dataframe tbody tr th:only-of-type {\n",
       "        vertical-align: middle;\n",
       "    }\n",
       "\n",
       "    .dataframe tbody tr th {\n",
       "        vertical-align: top;\n",
       "    }\n",
       "\n",
       "    .dataframe thead th {\n",
       "        text-align: right;\n",
       "    }\n",
       "</style>\n",
       "<table border=\"1\" class=\"dataframe\">\n",
       "  <thead>\n",
       "    <tr style=\"text-align: right;\">\n",
       "      <th></th>\n",
       "      <th>Port Returns</th>\n",
       "      <th>Port Risk</th>\n",
       "      <th>Sharpe Ratio</th>\n",
       "      <th>Portfolio Weights</th>\n",
       "    </tr>\n",
       "  </thead>\n",
       "  <tbody>\n",
       "    <tr>\n",
       "      <th>0</th>\n",
       "      <td>[[21.528564221100602, 5.76842912745902, 14.684...</td>\n",
       "      <td>[0.9535898209394793, 0.5955317520329355, 0.422...</td>\n",
       "      <td>[[30.82809311647257, 8.26017324939787, 21.0271...</td>\n",
       "      <td>weights\n",
       "0  0.226138\n",
       "1  0.060592\n",
       "2  0.15424...</td>\n",
       "    </tr>\n",
       "  </tbody>\n",
       "</table>\n",
       "</div>"
      ],
      "text/plain": [
       "                                        Port Returns  \\\n",
       "0  [[21.528564221100602, 5.76842912745902, 14.684...   \n",
       "\n",
       "                                           Port Risk  \\\n",
       "0  [0.9535898209394793, 0.5955317520329355, 0.422...   \n",
       "\n",
       "                                        Sharpe Ratio  \\\n",
       "0  [[30.82809311647257, 8.26017324939787, 21.0271...   \n",
       "\n",
       "                                   Portfolio Weights  \n",
       "0      weights\n",
       "0  0.226138\n",
       "1  0.060592\n",
       "2  0.15424...  "
      ]
     },
     "execution_count": 336,
     "metadata": {},
     "output_type": "execute_result"
    }
   ],
   "source": [
    "porfolio_metrics = [portfolio_returns,portfolio_risk,sharpe_ratio_port, df_weights]\n",
    "#from Python list we create a Pandas DataFrame\n",
    "portfolio_dfs = pd.DataFrame(porfolio_metrics)\n",
    "portfolio_dfs = portfolio_dfs.T\n",
    "#Rename the columns:\n",
    "portfolio_dfs.columns = ['Port Returns','Port Risk','Sharpe Ratio','Portfolio Weights']\n",
    "portfolio_dfs\n",
    "#convert from object to float the first three columns.\n",
    "#for col in ['Port Returns', 'Port Risk', 'Sharpe Ratio']:\n",
    "#    portfolio_dfs[col] = portfolio_dfs[col].astype(float)\n",
    "#portfolio_dfs"
   ]
  },
  {
   "cell_type": "code",
   "execution_count": 330,
   "id": "8d854546-cc8e-4e1e-9033-831e8d044584",
   "metadata": {},
   "outputs": [
    {
     "ename": "AttributeError",
     "evalue": "'numpy.ndarray' object has no attribute 'idxmax'",
     "output_type": "error",
     "traceback": [
      "\u001b[1;31m---------------------------------------------------------------------------\u001b[0m",
      "\u001b[1;31mAttributeError\u001b[0m                            Traceback (most recent call last)",
      "\u001b[1;32m<ipython-input-330-81bee9249f8d>\u001b[0m in \u001b[0;36m<module>\u001b[1;34m\u001b[0m\n\u001b[0;32m      1\u001b[0m \u001b[1;31m#portfolio with the highest Sharpe Ratio\u001b[0m\u001b[1;33m\u001b[0m\u001b[1;33m\u001b[0m\u001b[1;33m\u001b[0m\u001b[0m\n\u001b[1;32m----> 2\u001b[1;33m \u001b[0mHighest_sharpe_port\u001b[0m \u001b[1;33m=\u001b[0m \u001b[0mportfolio_dfs\u001b[0m\u001b[1;33m.\u001b[0m\u001b[0miloc\u001b[0m\u001b[1;33m[\u001b[0m\u001b[0mportfolio_dfs\u001b[0m\u001b[1;33m[\u001b[0m\u001b[1;34m'Sharpe Ratio'\u001b[0m\u001b[1;33m]\u001b[0m\u001b[1;33m[\u001b[0m\u001b[1;36m0\u001b[0m\u001b[1;33m]\u001b[0m\u001b[1;33m.\u001b[0m\u001b[0midxmax\u001b[0m\u001b[1;33m(\u001b[0m\u001b[1;33m)\u001b[0m\u001b[1;33m]\u001b[0m\u001b[1;33m\u001b[0m\u001b[1;33m\u001b[0m\u001b[0m\n\u001b[0m\u001b[0;32m      3\u001b[0m \u001b[1;31m#portfolio with the minimum risk\u001b[0m\u001b[1;33m\u001b[0m\u001b[1;33m\u001b[0m\u001b[1;33m\u001b[0m\u001b[0m\n\u001b[0;32m      4\u001b[0m \u001b[0mmin_risk\u001b[0m \u001b[1;33m=\u001b[0m \u001b[0mportfolio_dfs\u001b[0m\u001b[1;33m.\u001b[0m\u001b[0miloc\u001b[0m\u001b[1;33m[\u001b[0m\u001b[0mportfolio_dfs\u001b[0m\u001b[1;33m[\u001b[0m\u001b[1;34m'Port Risk'\u001b[0m\u001b[1;33m]\u001b[0m\u001b[1;33m.\u001b[0m\u001b[0midxmin\u001b[0m\u001b[1;33m(\u001b[0m\u001b[1;33m)\u001b[0m\u001b[1;33m]\u001b[0m\u001b[1;33m\u001b[0m\u001b[1;33m\u001b[0m\u001b[0m\n\u001b[0;32m      5\u001b[0m \u001b[1;33m\u001b[0m\u001b[0m\n",
      "\u001b[1;31mAttributeError\u001b[0m: 'numpy.ndarray' object has no attribute 'idxmax'"
     ]
    }
   ],
   "source": [
    "#portfolio with the highest Sharpe Ratio\n",
    "Highest_sharpe_port = portfolio_dfs.iloc[portfolio_dfs['Sharpe Ratio'][0].idxmax()]\n",
    "#portfolio with the minimum risk \n",
    "min_risk = portfolio_dfs.iloc[portfolio_dfs['Port Risk'].idxmin()]\n",
    "\n",
    "print(Highest_sharpe_port)\n",
    "print(min_risk)\n"
   ]
  },
  {
   "cell_type": "code",
   "execution_count": null,
   "id": "401cde99-67f2-4ee1-b0cc-ceb95cf1cb20",
   "metadata": {},
   "outputs": [],
   "source": []
  }
 ],
 "metadata": {
  "kernelspec": {
   "display_name": "Python 3",
   "language": "python",
   "name": "python3"
  },
  "language_info": {
   "codemirror_mode": {
    "name": "ipython",
    "version": 3
   },
   "file_extension": ".py",
   "mimetype": "text/x-python",
   "name": "python",
   "nbconvert_exporter": "python",
   "pygments_lexer": "ipython3",
   "version": "3.8.8"
  }
 },
 "nbformat": 4,
 "nbformat_minor": 5
}
