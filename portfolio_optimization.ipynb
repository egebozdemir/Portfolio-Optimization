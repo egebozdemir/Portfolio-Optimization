{
 "cells": [
  {
   "cell_type": "markdown",
   "id": "c23cd9b9-1e99-48e8-b56d-c90ed8a23862",
   "metadata": {},
   "source": [
    "## imports"
   ]
  },
  {
   "cell_type": "code",
   "execution_count": 289,
   "id": "2a5651d7-e6d0-4ecf-8997-dd0bf8e2faf9",
   "metadata": {},
   "outputs": [],
   "source": [
    "import numpy as np\n",
    "import pandas as pd\n",
    "import io\n",
    "import matplotlib.pyplot as plt\n",
    "from scipy.optimize import minimize\n",
    "import seaborn as sns"
   ]
  },
  {
   "cell_type": "markdown",
   "id": "fd283544-8eb8-4b6a-b9fa-1c08b1c7c8c3",
   "metadata": {},
   "source": [
    "## dataset"
   ]
  },
  {
   "cell_type": "code",
   "execution_count": 290,
   "id": "7023c631-4b0e-4e8f-964e-05e33f8e247a",
   "metadata": {
    "tags": []
   },
   "outputs": [],
   "source": [
    "data_amba = []\n",
    "\n",
    "with open(\"CSV/AMBA.csv\", \"r\") as file:\n",
    "    for line in file.readlines():\n",
    "        row = line.replace(\"\\n\", \"\").split(\",\")\n",
    "        data_amba.append(row)\n",
    "\n",
    "df_amba = pd.DataFrame(data_amba)\n",
    "df_amba.columns = df_amba.iloc[0]\n",
    "df_amba = df_amba[1:]\n",
    "df_amba = df_amba.set_index(\"Date\")\n",
    "#df_amba"
   ]
  },
  {
   "cell_type": "code",
   "execution_count": 291,
   "id": "d7ab9b13-d7ec-4fc7-b15b-eaddb89a0fa3",
   "metadata": {},
   "outputs": [],
   "source": [
    "df_amba[\"Adj Close\"] = df_amba[\"Adj Close\"].astype(float)\n",
    "#type(df_amba[\"Adj Close\"][1])\n",
    "#df_amba[\"Adj Close\"][0] "
   ]
  },
  {
   "cell_type": "code",
   "execution_count": 292,
   "id": "076cd341-0f64-417c-ba9a-837ec4f2d2be",
   "metadata": {
    "tags": []
   },
   "outputs": [],
   "source": [
    "weekly_return_amba = []\n",
    "\n",
    "for i in range(1, len(df_amba[\"Adj Close\"])):\n",
    "    #print(df_amba[\"Adj Close\"][i])\n",
    "    weekly_return_amba.append((df_amba[\"Adj Close\"][i] - df_amba[\"Adj Close\"][i-1]) / df_amba[\"Adj Close\"][i-1])\n",
    "    \n",
    "#weekly_return_amba"
   ]
  },
  {
   "cell_type": "code",
   "execution_count": 293,
   "id": "5b1935aa-1a0c-4fef-90e5-bc30acdbc7c7",
   "metadata": {
    "tags": []
   },
   "outputs": [],
   "source": [
    "data_goog = []\n",
    "\n",
    "with open(\"CSV/GOOG.csv\", \"r\") as file:\n",
    "    for line in file.readlines():\n",
    "        row = line.replace(\"\\n\", \"\").split(\",\")\n",
    "        data_goog.append(row)\n",
    "\n",
    "df_goog = pd.DataFrame(data_goog)\n",
    "df_goog.columns = df_goog.iloc[0]\n",
    "df_goog = df_goog[1:]\n",
    "df_goog = df_goog.set_index(\"Date\")\n",
    "#df_goog"
   ]
  },
  {
   "cell_type": "code",
   "execution_count": 294,
   "id": "dc4be31d-d2b7-4378-8bd9-27b90112ca56",
   "metadata": {
    "tags": []
   },
   "outputs": [],
   "source": [
    "df_goog[\"Adj Close\"] = df_goog[\"Adj Close\"].astype(float)\n",
    "weekly_return_goog = []\n",
    "\n",
    "for i in range(1, len(df_goog[\"Adj Close\"])):\n",
    "    #print(df_goog[\"Adj Close\"][i])\n",
    "    weekly_return_goog.append((df_goog[\"Adj Close\"][i] - df_goog[\"Adj Close\"][i-1]) / df_goog[\"Adj Close\"][i-1])\n",
    "    \n",
    "#weekly_return_goog"
   ]
  },
  {
   "cell_type": "code",
   "execution_count": 295,
   "id": "66411868-2eba-447c-816e-47b85c43a4fa",
   "metadata": {
    "tags": []
   },
   "outputs": [],
   "source": [
    "data_nflx = []\n",
    "\n",
    "with open(\"CSV/NFLX.csv\", \"r\") as file:\n",
    "    for line in file.readlines():\n",
    "        row = line.replace(\"\\n\", \"\").split(\",\")\n",
    "        data_nflx.append(row)\n",
    "\n",
    "df_nflx = pd.DataFrame(data_nflx)\n",
    "df_nflx.columns = df_nflx.iloc[0]\n",
    "df_nflx = df_nflx[1:]\n",
    "df_nflx = df_nflx.set_index(\"Date\")\n",
    "#df_nflx"
   ]
  },
  {
   "cell_type": "code",
   "execution_count": 296,
   "id": "4e690a97-942e-4e6d-9738-f0cbededc16a",
   "metadata": {
    "tags": []
   },
   "outputs": [],
   "source": [
    "df_nflx[\"Adj Close\"] = df_nflx[\"Adj Close\"].astype(float)\n",
    "weekly_return_nflx = []\n",
    "\n",
    "for i in range(1, len(df_nflx[\"Adj Close\"])):\n",
    "    #print(df_nflx[\"Adj Close\"][i])\n",
    "    weekly_return_nflx.append((df_nflx[\"Adj Close\"][i] - df_nflx[\"Adj Close\"][i-1]) / df_nflx[\"Adj Close\"][i-1])\n",
    "    \n",
    "#weekly_return_nflx"
   ]
  },
  {
   "cell_type": "code",
   "execution_count": 297,
   "id": "7444cb71-8584-4a42-a683-595398028bcf",
   "metadata": {
    "tags": []
   },
   "outputs": [],
   "source": [
    "data_orcl = []\n",
    "\n",
    "with open(\"CSV/ORCL.csv\", \"r\") as file:\n",
    "    for line in file.readlines():\n",
    "        row = line.replace(\"\\n\", \"\").split(\",\")\n",
    "        data_orcl.append(row)\n",
    "\n",
    "df_orcl = pd.DataFrame(data_orcl)\n",
    "df_orcl.columns = df_orcl.iloc[0]\n",
    "df_orcl = df_orcl[1:]\n",
    "df_orcl = df_orcl.set_index(\"Date\")\n",
    "#df_orcl"
   ]
  },
  {
   "cell_type": "code",
   "execution_count": 298,
   "id": "01a66d1d-62aa-4b3c-ad62-4b10570ed527",
   "metadata": {
    "tags": []
   },
   "outputs": [],
   "source": [
    "df_orcl[\"Adj Close\"] = df_orcl[\"Adj Close\"].astype(float)\n",
    "weekly_return_orcl = []\n",
    "\n",
    "for i in range(1, len(df_orcl[\"Adj Close\"])):\n",
    "    #print(df_orcl[\"Adj Close\"][i])\n",
    "    weekly_return_orcl.append((df_orcl[\"Adj Close\"][i] - df_orcl[\"Adj Close\"][i-1]) / df_orcl[\"Adj Close\"][i-1])\n",
    "    \n",
    "#weekly_return_orcl"
   ]
  },
  {
   "cell_type": "code",
   "execution_count": 299,
   "id": "5a422285-8d3e-4ca3-8091-5a1e95b00b31",
   "metadata": {
    "tags": []
   },
   "outputs": [],
   "source": [
    "data_tsla = []\n",
    "\n",
    "with open(\"CSV/TSLA.csv\", \"r\") as file:\n",
    "    for line in file.readlines():\n",
    "        row = line.replace(\"\\n\", \"\").split(\",\")\n",
    "        data_tsla.append(row)\n",
    "\n",
    "df_tsla = pd.DataFrame(data_tsla)\n",
    "df_tsla.columns = df_tsla.iloc[0]\n",
    "df_tsla = df_tsla[1:]\n",
    "df_tsla = df_tsla.set_index(\"Date\")\n",
    "#df_tsla"
   ]
  },
  {
   "cell_type": "code",
   "execution_count": 300,
   "id": "fca18ae5-f756-4207-9abd-b1c621f248fc",
   "metadata": {
    "tags": []
   },
   "outputs": [],
   "source": [
    "df_tsla[\"Adj Close\"] = df_tsla[\"Adj Close\"].astype(float)\n",
    "weekly_return_tsla = []\n",
    "\n",
    "for i in range(1, len(df_tsla[\"Adj Close\"])):\n",
    "    #print(df_tsla[\"Adj Close\"][i])\n",
    "    weekly_return_tsla.append((df_tsla[\"Adj Close\"][i] - df_tsla[\"Adj Close\"][i-1]) / df_tsla[\"Adj Close\"][i-1])\n",
    "    \n",
    "#weekly_return_tsla"
   ]
  },
  {
   "cell_type": "code",
   "execution_count": 301,
   "id": "abdc4a94-b0c7-4b70-bf6d-de984a587c6d",
   "metadata": {},
   "outputs": [
    {
     "data": {
      "text/plain": [
       "195"
      ]
     },
     "execution_count": 301,
     "metadata": {},
     "output_type": "execute_result"
    }
   ],
   "source": [
    "len(weekly_return_amba)\n",
    "len(weekly_return_goog)\n",
    "len(weekly_return_nflx)\n",
    "len(weekly_return_orcl)\n",
    "len(weekly_return_tsla)"
   ]
  },
  {
   "cell_type": "code",
   "execution_count": 302,
   "id": "e1a7fe85-3fae-44d8-8739-b3031517cac5",
   "metadata": {
    "tags": []
   },
   "outputs": [
    {
     "data": {
      "text/html": [
       "<div>\n",
       "<style scoped>\n",
       "    .dataframe tbody tr th:only-of-type {\n",
       "        vertical-align: middle;\n",
       "    }\n",
       "\n",
       "    .dataframe tbody tr th {\n",
       "        vertical-align: top;\n",
       "    }\n",
       "\n",
       "    .dataframe thead th {\n",
       "        text-align: right;\n",
       "    }\n",
       "</style>\n",
       "<table border=\"1\" class=\"dataframe\">\n",
       "  <thead>\n",
       "    <tr style=\"text-align: right;\">\n",
       "      <th></th>\n",
       "      <th>AMBA</th>\n",
       "      <th>GOOG</th>\n",
       "      <th>NFLX</th>\n",
       "      <th>ORCL</th>\n",
       "      <th>TSLA</th>\n",
       "    </tr>\n",
       "    <tr>\n",
       "      <th>Date</th>\n",
       "      <th></th>\n",
       "      <th></th>\n",
       "      <th></th>\n",
       "      <th></th>\n",
       "      <th></th>\n",
       "    </tr>\n",
       "  </thead>\n",
       "  <tbody>\n",
       "    <tr>\n",
       "      <th>2015-01-08</th>\n",
       "      <td>-0.034167</td>\n",
       "      <td>-0.000459</td>\n",
       "      <td>-0.009046</td>\n",
       "      <td>0.000623</td>\n",
       "      <td>-0.086561</td>\n",
       "    </tr>\n",
       "    <tr>\n",
       "      <th>2015-01-15</th>\n",
       "      <td>0.020017</td>\n",
       "      <td>0.034280</td>\n",
       "      <td>0.262275</td>\n",
       "      <td>0.009986</td>\n",
       "      <td>0.020136</td>\n",
       "    </tr>\n",
       "    <tr>\n",
       "      <th>2015-01-22</th>\n",
       "      <td>-0.035696</td>\n",
       "      <td>-0.015520</td>\n",
       "      <td>0.081069</td>\n",
       "      <td>-0.018395</td>\n",
       "      <td>0.014244</td>\n",
       "    </tr>\n",
       "    <tr>\n",
       "      <th>2015-01-29</th>\n",
       "      <td>-0.008421</td>\n",
       "      <td>0.025020</td>\n",
       "      <td>0.014126</td>\n",
       "      <td>-0.006324</td>\n",
       "      <td>0.096203</td>\n",
       "    </tr>\n",
       "    <tr>\n",
       "      <th>2015-02-05</th>\n",
       "      <td>-0.029724</td>\n",
       "      <td>0.025270</td>\n",
       "      <td>0.013773</td>\n",
       "      <td>0.022159</td>\n",
       "      <td>-0.026310</td>\n",
       "    </tr>\n",
       "    <tr>\n",
       "      <th>...</th>\n",
       "      <td>...</td>\n",
       "      <td>...</td>\n",
       "      <td>...</td>\n",
       "      <td>...</td>\n",
       "      <td>...</td>\n",
       "    </tr>\n",
       "    <tr>\n",
       "      <th>2018-08-30</th>\n",
       "      <td>-0.028949</td>\n",
       "      <td>-0.050284</td>\n",
       "      <td>-0.072981</td>\n",
       "      <td>-0.017386</td>\n",
       "      <td>-0.079571</td>\n",
       "    </tr>\n",
       "    <tr>\n",
       "      <th>2018-09-06</th>\n",
       "      <td>0.030583</td>\n",
       "      <td>-0.019941</td>\n",
       "      <td>0.084325</td>\n",
       "      <td>0.027061</td>\n",
       "      <td>0.034908</td>\n",
       "    </tr>\n",
       "    <tr>\n",
       "      <th>2018-09-13</th>\n",
       "      <td>-0.090274</td>\n",
       "      <td>0.007112</td>\n",
       "      <td>-0.008082</td>\n",
       "      <td>0.001824</td>\n",
       "      <td>0.029187</td>\n",
       "    </tr>\n",
       "    <tr>\n",
       "      <th>2018-09-20</th>\n",
       "      <td>0.042489</td>\n",
       "      <td>0.008027</td>\n",
       "      <td>0.029758</td>\n",
       "      <td>0.044507</td>\n",
       "      <td>0.035315</td>\n",
       "    </tr>\n",
       "    <tr>\n",
       "      <th>2018-09-27</th>\n",
       "      <td>0.017092</td>\n",
       "      <td>0.011987</td>\n",
       "      <td>-0.009924</td>\n",
       "      <td>-0.001356</td>\n",
       "      <td>-0.144745</td>\n",
       "    </tr>\n",
       "  </tbody>\n",
       "</table>\n",
       "<p>195 rows × 5 columns</p>\n",
       "</div>"
      ],
      "text/plain": [
       "                AMBA      GOOG      NFLX      ORCL      TSLA\n",
       "Date                                                        \n",
       "2015-01-08 -0.034167 -0.000459 -0.009046  0.000623 -0.086561\n",
       "2015-01-15  0.020017  0.034280  0.262275  0.009986  0.020136\n",
       "2015-01-22 -0.035696 -0.015520  0.081069 -0.018395  0.014244\n",
       "2015-01-29 -0.008421  0.025020  0.014126 -0.006324  0.096203\n",
       "2015-02-05 -0.029724  0.025270  0.013773  0.022159 -0.026310\n",
       "...              ...       ...       ...       ...       ...\n",
       "2018-08-30 -0.028949 -0.050284 -0.072981 -0.017386 -0.079571\n",
       "2018-09-06  0.030583 -0.019941  0.084325  0.027061  0.034908\n",
       "2018-09-13 -0.090274  0.007112 -0.008082  0.001824  0.029187\n",
       "2018-09-20  0.042489  0.008027  0.029758  0.044507  0.035315\n",
       "2018-09-27  0.017092  0.011987 -0.009924 -0.001356 -0.144745\n",
       "\n",
       "[195 rows x 5 columns]"
      ]
     },
     "execution_count": 302,
     "metadata": {},
     "output_type": "execute_result"
    }
   ],
   "source": [
    "df_stocks = pd.DataFrame({'AMBA': weekly_return_amba, 'GOOG': weekly_return_goog, 'NFLX': weekly_return_nflx, 'ORCL': weekly_return_orcl, 'TSLA': weekly_return_tsla}, index=df_amba.index[1:])\n",
    "df_stocks"
   ]
  },
  {
   "cell_type": "markdown",
   "id": "80afc7b2-63fa-49a9-8552-ad4ffe50cbdd",
   "metadata": {},
   "source": [
    "## return - varience - standard deviation"
   ]
  },
  {
   "cell_type": "code",
   "execution_count": 303,
   "id": "e4bc17f4-6744-47b3-90fc-a002011ec4a6",
   "metadata": {},
   "outputs": [
    {
     "data": {
      "image/png": "[encoded data removed]",
      "text/plain": [
       "<Figure size 432x288 with 1 Axes>"
      ]
     },
     "metadata": {},
     "output_type": "display_data"
    }
   ],
   "source": [
    "boxplot_returns = sns.boxplot(data=df_stocks, orient=\"h\", palette=\"Set2\")"
   ]
  },
  {
   "cell_type": "code",
   "execution_count": 305,
   "id": "731ab219-9b24-4b88-b48b-e16997bb4514",
   "metadata": {
    "tags": []
   },
   "outputs": [
    {
     "data": {
      "text/plain": [
       "[0.00929550478372682,\n",
       " 0.4956843239489363,\n",
       " 1.2298688016235604,\n",
       " 0.15848191477494344,\n",
       " 0.2902174643758332]"
      ]
     },
     "execution_count": 305,
     "metadata": {},
     "output_type": "execute_result"
    }
   ],
   "source": [
    "avg_return_amba = df_stocks[\"AMBA\"].mean()*100\n",
    "avg_return_goog = df_stocks[\"GOOG\"].mean()*100\n",
    "avg_return_nflx = df_stocks[\"NFLX\"].mean()*100\n",
    "avg_return_orcl = df_stocks[\"ORCL\"].mean()*100\n",
    "avg_return_tsla = df_stocks[\"TSLA\"].mean()*100\n",
    "\n",
    "#print(avg_return_amba, avg_return_goog, avg_return_nflx, avg_return_orcl, avg_return_tsla)\n",
    "percent_avg_returns = [avg_return_amba, avg_return_goog, avg_return_nflx, avg_return_orcl, avg_return_tsla]\n",
    "percent_avg_returns"
   ]
  },
  {
   "cell_type": "code",
   "execution_count": 306,
   "id": "a7bcdd72-f9cf-4cbd-b58a-bb37555eef8b",
   "metadata": {
    "tags": []
   },
   "outputs": [
    {
     "data": {
      "text/plain": [
       "[0.4662437645270469,\n",
       " 0.09759318059863849,\n",
       " 0.32777939895442376,\n",
       " 0.0748468866122799,\n",
       " 0.3483465355095528]"
      ]
     },
     "execution_count": 306,
     "metadata": {},
     "output_type": "execute_result"
    }
   ],
   "source": [
    "var_amba = df_stocks[\"AMBA\"].var()*100\n",
    "var_goog = df_stocks[\"GOOG\"].var()*100\n",
    "var_nflx = df_stocks[\"NFLX\"].var()*100\n",
    "var_orcl = df_stocks[\"ORCL\"].var()*100\n",
    "var_tsla = df_stocks[\"TSLA\"].var()*100\n",
    "\n",
    "percent_variences = [var_amba, var_goog, var_nflx, var_orcl, var_tsla]\n",
    "percent_variences"
   ]
  },
  {
   "cell_type": "code",
   "execution_count": 307,
   "id": "bd89eda2-2e14-43bc-b7f3-aecc30b72869",
   "metadata": {
    "tags": []
   },
   "outputs": [
    {
     "data": {
      "text/plain": [
       "[6.828204482344146,\n",
       " 3.1239907265969675,\n",
       " 5.725202170704749,\n",
       " 2.735815904118548,\n",
       " 5.902088914185831]"
      ]
     },
     "execution_count": 307,
     "metadata": {},
     "output_type": "execute_result"
    }
   ],
   "source": [
    "stddev_amba = df_stocks[\"AMBA\"].std()*100\n",
    "stddev_goog = df_stocks[\"GOOG\"].std()*100\n",
    "stddev_nflx = df_stocks[\"NFLX\"].std()*100\n",
    "stddev_orcl = df_stocks[\"ORCL\"].std()*100\n",
    "stddev_tsla = df_stocks[\"TSLA\"].std()*100\n",
    "\n",
    "percent_standard_deviations = [stddev_amba, stddev_goog, stddev_nflx, stddev_orcl, stddev_tsla]\n",
    "percent_standard_deviations"
   ]
  },
  {
   "cell_type": "code",
   "execution_count": 308,
   "id": "d27a4d82-c5c1-44f2-b422-432bbf32ab28",
   "metadata": {},
   "outputs": [
    {
     "data": {
      "text/html": [
       "<div>\n",
       "<style scoped>\n",
       "    .dataframe tbody tr th:only-of-type {\n",
       "        vertical-align: middle;\n",
       "    }\n",
       "\n",
       "    .dataframe tbody tr th {\n",
       "        vertical-align: top;\n",
       "    }\n",
       "\n",
       "    .dataframe thead th {\n",
       "        text-align: right;\n",
       "    }\n",
       "</style>\n",
       "<table border=\"1\" class=\"dataframe\">\n",
       "  <thead>\n",
       "    <tr style=\"text-align: right;\">\n",
       "      <th></th>\n",
       "      <th>AMBA</th>\n",
       "      <th>GOOG</th>\n",
       "      <th>NFLX</th>\n",
       "      <th>ORCL</th>\n",
       "      <th>TSLA</th>\n",
       "    </tr>\n",
       "  </thead>\n",
       "  <tbody>\n",
       "    <tr>\n",
       "      <th>Mean Return %</th>\n",
       "      <td>0.009296</td>\n",
       "      <td>0.495684</td>\n",
       "      <td>1.229869</td>\n",
       "      <td>0.158482</td>\n",
       "      <td>0.290217</td>\n",
       "    </tr>\n",
       "    <tr>\n",
       "      <th>Variance %</th>\n",
       "      <td>0.466244</td>\n",
       "      <td>0.097593</td>\n",
       "      <td>0.327779</td>\n",
       "      <td>0.074847</td>\n",
       "      <td>0.348347</td>\n",
       "    </tr>\n",
       "    <tr>\n",
       "      <th>Standard Deviation %</th>\n",
       "      <td>6.828204</td>\n",
       "      <td>3.123991</td>\n",
       "      <td>5.725202</td>\n",
       "      <td>2.735816</td>\n",
       "      <td>5.902089</td>\n",
       "    </tr>\n",
       "  </tbody>\n",
       "</table>\n",
       "</div>"
      ],
      "text/plain": [
       "                          AMBA      GOOG      NFLX      ORCL      TSLA\n",
       "Mean Return %         0.009296  0.495684  1.229869  0.158482  0.290217\n",
       "Variance %            0.466244  0.097593  0.327779  0.074847  0.348347\n",
       "Standard Deviation %  6.828204  3.123991  5.725202  2.735816  5.902089"
      ]
     },
     "execution_count": 308,
     "metadata": {},
     "output_type": "execute_result"
    }
   ],
   "source": [
    "df_specs = pd.DataFrame([percent_avg_returns, percent_variences, percent_standard_deviations])\n",
    "#df_specs.shape\n",
    "df_specs.rename(index={0: 'Mean Return %', 1: 'Variance %', 2: 'Standard Deviation %'}, inplace=True)\n",
    "df_specs.rename(columns={0: 'AMBA', 1: 'GOOG', 2: 'NFLX', 3: 'ORCL', 4: 'TSLA'}, inplace=True)\n",
    "df_specs"
   ]
  },
  {
   "cell_type": "code",
   "execution_count": 309,
   "id": "0a600d8c-35d7-4704-abde-97295ecfc4b4",
   "metadata": {},
   "outputs": [
    {
     "data": {
      "text/html": [
       "<div>\n",
       "<style scoped>\n",
       "    .dataframe tbody tr th:only-of-type {\n",
       "        vertical-align: middle;\n",
       "    }\n",
       "\n",
       "    .dataframe tbody tr th {\n",
       "        vertical-align: top;\n",
       "    }\n",
       "\n",
       "    .dataframe thead th {\n",
       "        text-align: right;\n",
       "    }\n",
       "</style>\n",
       "<table border=\"1\" class=\"dataframe\">\n",
       "  <thead>\n",
       "    <tr style=\"text-align: right;\">\n",
       "      <th></th>\n",
       "      <th>AMBA</th>\n",
       "      <th>GOOG</th>\n",
       "      <th>NFLX</th>\n",
       "      <th>ORCL</th>\n",
       "      <th>TSLA</th>\n",
       "    </tr>\n",
       "  </thead>\n",
       "  <tbody>\n",
       "    <tr>\n",
       "      <th>AMBA</th>\n",
       "      <td>0.004662</td>\n",
       "      <td>0.000724</td>\n",
       "      <td>0.001039</td>\n",
       "      <td>0.000369</td>\n",
       "      <td>0.000782</td>\n",
       "    </tr>\n",
       "    <tr>\n",
       "      <th>GOOG</th>\n",
       "      <td>0.000724</td>\n",
       "      <td>0.000976</td>\n",
       "      <td>0.000844</td>\n",
       "      <td>0.000303</td>\n",
       "      <td>0.000524</td>\n",
       "    </tr>\n",
       "    <tr>\n",
       "      <th>NFLX</th>\n",
       "      <td>0.001039</td>\n",
       "      <td>0.000844</td>\n",
       "      <td>0.003278</td>\n",
       "      <td>0.000361</td>\n",
       "      <td>0.001029</td>\n",
       "    </tr>\n",
       "    <tr>\n",
       "      <th>ORCL</th>\n",
       "      <td>0.000369</td>\n",
       "      <td>0.000303</td>\n",
       "      <td>0.000361</td>\n",
       "      <td>0.000748</td>\n",
       "      <td>0.000381</td>\n",
       "    </tr>\n",
       "    <tr>\n",
       "      <th>TSLA</th>\n",
       "      <td>0.000782</td>\n",
       "      <td>0.000524</td>\n",
       "      <td>0.001029</td>\n",
       "      <td>0.000381</td>\n",
       "      <td>0.003483</td>\n",
       "    </tr>\n",
       "  </tbody>\n",
       "</table>\n",
       "</div>"
      ],
      "text/plain": [
       "          AMBA      GOOG      NFLX      ORCL      TSLA\n",
       "AMBA  0.004662  0.000724  0.001039  0.000369  0.000782\n",
       "GOOG  0.000724  0.000976  0.000844  0.000303  0.000524\n",
       "NFLX  0.001039  0.000844  0.003278  0.000361  0.001029\n",
       "ORCL  0.000369  0.000303  0.000361  0.000748  0.000381\n",
       "TSLA  0.000782  0.000524  0.001029  0.000381  0.003483"
      ]
     },
     "execution_count": 309,
     "metadata": {},
     "output_type": "execute_result"
    }
   ],
   "source": [
    "cov_matrix = df_stocks.cov()\n",
    "cov_matrix"
   ]
  },
  {
   "cell_type": "code",
   "execution_count": 310,
   "id": "90277391-a73b-4cd0-920b-da5d3d6d207d",
   "metadata": {},
   "outputs": [
    {
     "data": {
      "text/html": [
       "<div>\n",
       "<style scoped>\n",
       "    .dataframe tbody tr th:only-of-type {\n",
       "        vertical-align: middle;\n",
       "    }\n",
       "\n",
       "    .dataframe tbody tr th {\n",
       "        vertical-align: top;\n",
       "    }\n",
       "\n",
       "    .dataframe thead th {\n",
       "        text-align: right;\n",
       "    }\n",
       "</style>\n",
       "<table border=\"1\" class=\"dataframe\">\n",
       "  <thead>\n",
       "    <tr style=\"text-align: right;\">\n",
       "      <th></th>\n",
       "      <th>AMBA</th>\n",
       "      <th>GOOG</th>\n",
       "      <th>NFLX</th>\n",
       "      <th>ORCL</th>\n",
       "      <th>TSLA</th>\n",
       "    </tr>\n",
       "  </thead>\n",
       "  <tbody>\n",
       "    <tr>\n",
       "      <th>Mean Return %</th>\n",
       "      <td>0.009296</td>\n",
       "      <td>0.495684</td>\n",
       "      <td>1.229869</td>\n",
       "      <td>0.158482</td>\n",
       "      <td>0.290217</td>\n",
       "    </tr>\n",
       "  </tbody>\n",
       "</table>\n",
       "</div>"
      ],
      "text/plain": [
       "                   AMBA      GOOG      NFLX      ORCL      TSLA\n",
       "Mean Return %  0.009296  0.495684  1.229869  0.158482  0.290217"
      ]
     },
     "execution_count": 310,
     "metadata": {},
     "output_type": "execute_result"
    }
   ],
   "source": [
    "df_specs[:1]\n",
    "#df_specs.iloc[0]"
   ]
  },
  {
   "cell_type": "markdown",
   "id": "6e0c4b17-3c96-458b-b86d-d9cedbfe203f",
   "metadata": {},
   "source": [
    "## portfolio optimization"
   ]
  },
  {
   "cell_type": "code",
   "execution_count": 311,
   "id": "b6ad9c77-0b07-4ed5-80ac-67d6c0331ee8",
   "metadata": {
    "tags": []
   },
   "outputs": [],
   "source": [
    "number_of_portfolios = 2000\n",
    "portfolio_returns = []\n",
    "portfolio_risk = []\n",
    "sharpe_ratio_port = []\n",
    "risk_free_rate = 0.0002\n",
    "\n",
    "for port in range (number_of_portfolios):\n",
    "    mean_returns = np.array(percent_avg_returns)\n",
    "    weights = np.random.random_sample((len(mean_returns)))\n",
    "    weights = weights / np.sum(weights)\n",
    "    #print(type(weights))\n",
    "    #print(weights)\n",
    "    #return\n",
    "    annualize_return = np.sum((np.array(df_specs[:1]) * weights.T) * 52)\n",
    "    #annualize_return\n",
    "    portfolio_returns.append(annualize_return)    \n",
    "    #portfolio_returns\n",
    "    #variance\n",
    "    matrix_covariance_portfolio = (cov_matrix) * 52\n",
    "    portfolio_variance = np.dot(weights.T, np.dot(matrix_covariance_portfolio, weights))\n",
    "    #portfolio_variance\n",
    "    portfolio_standard_deviation= np.sqrt(portfolio_variance) \n",
    "    portfolio_risk.append(portfolio_standard_deviation)\n",
    "    #portfolio_risk\n",
    "    #sharpe_ratio\n",
    "    sharpe_ratio = ((annualize_return - risk_free_rate) / portfolio_standard_deviation)\n",
    "    sharpe_ratio_port.append(sharpe_ratio)\n",
    "    #sharpe_ratio_port\n",
    "    #keep weights as well to find out later the weights from the optimized portfolio\n",
    "    portfolio_weights.append(weights)\n",
    "    \n",
    "#portfolio_weights\n"
   ]
  },
  {
   "cell_type": "code",
   "execution_count": 312,
   "id": "2ff9cb28-59db-4e22-8f0f-89ffc8994243",
   "metadata": {},
   "outputs": [],
   "source": [
    "portfolio_risk = np.array(portfolio_risk)\n",
    "portfolio_returns = np.array(portfolio_returns)\n",
    "sharpe_ratio_port = np.array(sharpe_ratio_port)\n",
    "\n",
    "#len(portfolio_risk)\n",
    "#len(portfolio_returns)\n",
    "#len(sharpe_ratio_port)\n",
    "\n",
    "#portfolio_risk\n",
    "#portfolio_returns\n",
    "#shasharpe_ratio_port"
   ]
  },
  {
   "cell_type": "code",
   "execution_count": 313,
   "id": "9c5fd4bb-e304-4163-b1d0-627ff1ee897b",
   "metadata": {},
   "outputs": [
    {
     "data": {
      "text/plain": [
       "<matplotlib.colorbar.Colorbar at 0x2e28b2522b0>"
      ]
     },
     "execution_count": 313,
     "metadata": {},
     "output_type": "execute_result"
    },
    {
     "data": {
      "image/png": "[encoded data removed]",
      "text/plain": [
       "<Figure size 720x360 with 2 Axes>"
      ]
     },
     "metadata": {},
     "output_type": "display_data"
    }
   ],
   "source": [
    "plt.figure(figsize=(10, 5))\n",
    "plt.scatter(portfolio_risk, portfolio_returns, c=sharpe_ratio_port) \n",
    "plt.xlabel('volatility')\n",
    "plt.ylabel('returns')\n",
    "plt.colorbar(label='Sharpe ratio')"
   ]
  },
  {
   "cell_type": "code",
   "execution_count": 314,
   "id": "2a4eab7c-81b1-42a9-a183-a44555acb657",
   "metadata": {
    "tags": []
   },
   "outputs": [
    {
     "data": {
      "text/html": [
       "<div>\n",
       "<style scoped>\n",
       "    .dataframe tbody tr th:only-of-type {\n",
       "        vertical-align: middle;\n",
       "    }\n",
       "\n",
       "    .dataframe tbody tr th {\n",
       "        vertical-align: top;\n",
       "    }\n",
       "\n",
       "    .dataframe thead th {\n",
       "        text-align: right;\n",
       "    }\n",
       "</style>\n",
       "<table border=\"1\" class=\"dataframe\">\n",
       "  <thead>\n",
       "    <tr style=\"text-align: right;\">\n",
       "      <th></th>\n",
       "      <th>Port Returns</th>\n",
       "      <th>Port Risk</th>\n",
       "      <th>Sharpe Ratio</th>\n",
       "      <th>Portfolio Weights</th>\n",
       "    </tr>\n",
       "  </thead>\n",
       "  <tbody>\n",
       "    <tr>\n",
       "      <th>0</th>\n",
       "      <td>22.233341</td>\n",
       "      <td>0.260503</td>\n",
       "      <td>85.346914</td>\n",
       "      <td>[0.1519971040473694, 0.20862267532439716, 0.27...</td>\n",
       "    </tr>\n",
       "    <tr>\n",
       "      <th>1</th>\n",
       "      <td>25.964451</td>\n",
       "      <td>0.225797</td>\n",
       "      <td>114.989199</td>\n",
       "      <td>[0.014366177449498752, 0.28728335607089434, 0....</td>\n",
       "    </tr>\n",
       "    <tr>\n",
       "      <th>2</th>\n",
       "      <td>20.297553</td>\n",
       "      <td>0.231262</td>\n",
       "      <td>87.767824</td>\n",
       "      <td>[0.3125080618313906, 0.29472953117476147, 0.02...</td>\n",
       "    </tr>\n",
       "    <tr>\n",
       "      <th>3</th>\n",
       "      <td>18.374795</td>\n",
       "      <td>0.235020</td>\n",
       "      <td>78.183116</td>\n",
       "      <td>[0.17954068908767287, 0.2570337909921922, 0.19...</td>\n",
       "    </tr>\n",
       "    <tr>\n",
       "      <th>4</th>\n",
       "      <td>23.967670</td>\n",
       "      <td>0.221262</td>\n",
       "      <td>108.321528</td>\n",
       "      <td>[0.11294683712624987, 0.3569702190084344, 0.37...</td>\n",
       "    </tr>\n",
       "    <tr>\n",
       "      <th>...</th>\n",
       "      <td>...</td>\n",
       "      <td>...</td>\n",
       "      <td>...</td>\n",
       "      <td>...</td>\n",
       "    </tr>\n",
       "    <tr>\n",
       "      <th>1995</th>\n",
       "      <td>28.648286</td>\n",
       "      <td>0.255775</td>\n",
       "      <td>112.004827</td>\n",
       "      <td>[0.1069555559928675, 0.2495638187830178, 0.438...</td>\n",
       "    </tr>\n",
       "    <tr>\n",
       "      <th>1996</th>\n",
       "      <td>23.835443</td>\n",
       "      <td>0.276415</td>\n",
       "      <td>86.229842</td>\n",
       "      <td>[0.054651604931106774, 0.2764576114884005, 0.2...</td>\n",
       "    </tr>\n",
       "    <tr>\n",
       "      <th>1997</th>\n",
       "      <td>14.977204</td>\n",
       "      <td>0.251683</td>\n",
       "      <td>59.507330</td>\n",
       "      <td>[0.09996544379963129, 0.2949933099028789, 0.36...</td>\n",
       "    </tr>\n",
       "    <tr>\n",
       "      <th>1998</th>\n",
       "      <td>30.474547</td>\n",
       "      <td>0.245557</td>\n",
       "      <td>124.103002</td>\n",
       "      <td>[0.2086829241149231, 0.03610233181548453, 0.21...</td>\n",
       "    </tr>\n",
       "    <tr>\n",
       "      <th>1999</th>\n",
       "      <td>13.301380</td>\n",
       "      <td>0.233560</td>\n",
       "      <td>56.949696</td>\n",
       "      <td>[0.1539985760976759, 0.055893735413321995, 0.3...</td>\n",
       "    </tr>\n",
       "  </tbody>\n",
       "</table>\n",
       "<p>2000 rows × 4 columns</p>\n",
       "</div>"
      ],
      "text/plain": [
       "      Port Returns  Port Risk  Sharpe Ratio  \\\n",
       "0        22.233341   0.260503     85.346914   \n",
       "1        25.964451   0.225797    114.989199   \n",
       "2        20.297553   0.231262     87.767824   \n",
       "3        18.374795   0.235020     78.183116   \n",
       "4        23.967670   0.221262    108.321528   \n",
       "...            ...        ...           ...   \n",
       "1995     28.648286   0.255775    112.004827   \n",
       "1996     23.835443   0.276415     86.229842   \n",
       "1997     14.977204   0.251683     59.507330   \n",
       "1998     30.474547   0.245557    124.103002   \n",
       "1999     13.301380   0.233560     56.949696   \n",
       "\n",
       "                                      Portfolio Weights  \n",
       "0     [0.1519971040473694, 0.20862267532439716, 0.27...  \n",
       "1     [0.014366177449498752, 0.28728335607089434, 0....  \n",
       "2     [0.3125080618313906, 0.29472953117476147, 0.02...  \n",
       "3     [0.17954068908767287, 0.2570337909921922, 0.19...  \n",
       "4     [0.11294683712624987, 0.3569702190084344, 0.37...  \n",
       "...                                                 ...  \n",
       "1995  [0.1069555559928675, 0.2495638187830178, 0.438...  \n",
       "1996  [0.054651604931106774, 0.2764576114884005, 0.2...  \n",
       "1997  [0.09996544379963129, 0.2949933099028789, 0.36...  \n",
       "1998  [0.2086829241149231, 0.03610233181548453, 0.21...  \n",
       "1999  [0.1539985760976759, 0.055893735413321995, 0.3...  \n",
       "\n",
       "[2000 rows x 4 columns]"
      ]
     },
     "execution_count": 314,
     "metadata": {},
     "output_type": "execute_result"
    }
   ],
   "source": [
    "porfolio_metrics = [portfolio_returns, portfolio_risk, sharpe_ratio_port, portfolio_weights] \n",
    "#from Python list we create a Pandas DataFrame\n",
    "portfolio_dfs = pd.DataFrame(porfolio_metrics)\n",
    "portfolio_dfs = portfolio_dfs.T\n",
    "#Rename the columns:\n",
    "portfolio_dfs.columns = ['Port Returns','Port Risk','Sharpe Ratio','Portfolio Weights']\n",
    "\n",
    "#convert from object to float the first three columns.\n",
    "for col in ['Port Returns', 'Port Risk', 'Sharpe Ratio']:\n",
    "    portfolio_dfs[col] = portfolio_dfs[col].astype(float)\n",
    "\n",
    "portfolio_dfs = portfolio_dfs.dropna()\n",
    "portfolio_dfs"
   ]
  },
  {
   "cell_type": "markdown",
   "id": "1172e8cf-6355-493a-9a1a-0d1088e97837",
   "metadata": {},
   "source": [
    "## results"
   ]
  },
  {
   "cell_type": "code",
   "execution_count": 315,
   "id": "3615c684-c492-410d-882f-e95d1dcbbc66",
   "metadata": {},
   "outputs": [
    {
     "name": "stdout",
     "output_type": "stream",
     "text": [
      "Portfolio with the highest Sharpe Ratio:\n",
      "\n",
      "Port Returns                                                 38.377732\n",
      "Port Risk                                                     0.246547\n",
      "Sharpe Ratio                                                155.660245\n",
      "Portfolio Weights    [0.1461355046207517, 0.21455679594328297, 0.12...\n",
      "Name: 1092, dtype: object\n",
      "\n",
      "\n",
      "\n",
      "Portfolio with the minimum risk:\n",
      "\n",
      "Port Returns                                                 20.682111\n",
      "Port Risk                                                     0.177948\n",
      "Sharpe Ratio                                                116.224172\n",
      "Portfolio Weights    [0.34779503571447185, 0.10997662317419651, 0.1...\n",
      "Name: 171, dtype: object\n"
     ]
    }
   ],
   "source": [
    "#portfolio with the highest Sharpe Ratio\n",
    "Highest_sharpe_port = portfolio_dfs.iloc[portfolio_dfs['Sharpe Ratio'].idxmax()]\n",
    "#portfolio with the minimum risk \n",
    "min_risk = portfolio_dfs.iloc[portfolio_dfs['Port Risk'].idxmin()]\n",
    "\n",
    "print(\"Portfolio with the highest Sharpe Ratio:\")\n",
    "print()\n",
    "print(Highest_sharpe_port)\n",
    "print()\n",
    "print()\n",
    "print()\n",
    "print(\"Portfolio with the minimum risk:\")\n",
    "print()\n",
    "print(min_risk)\n"
   ]
  },
  {
   "cell_type": "code",
   "execution_count": null,
   "id": "314359ef-e366-4f1b-abf7-f948c9c2879c",
   "metadata": {},
   "outputs": [],
   "source": []
  }
 ],
 "metadata": {
  "kernelspec": {
   "display_name": "Python 3",
   "language": "python",
   "name": "python3"
  },
  "language_info": {
   "codemirror_mode": {
    "name": "ipython",
    "version": 3
   },
   "file_extension": ".py",
   "mimetype": "text/x-python",
   "name": "python",
   "nbconvert_exporter": "python",
   "pygments_lexer": "ipython3",
   "version": "3.8.8"
  }
 },
 "nbformat": 4,
 "nbformat_minor": 5
}
